{
  "cells": [
    {
      "cell_type": "markdown",
      "metadata": {
        "id": "gWq2Gz3MWX0W"
      },
      "source": [
        "https://api.together.ai/"
      ]
    },
    {
      "cell_type": "markdown",
      "metadata": {
        "id": "ZzbeZX5PHvp3"
      },
      "source": [
        "#Liste des imports"
      ]
    },
    {
      "cell_type": "markdown",
      "metadata": {
        "id": "6Jr2BrycH3x7"
      },
      "source": [
        "##Modules généraux"
      ]
    },
    {
      "cell_type": "code",
      "execution_count": null,
      "metadata": {
        "colab": {
          "base_uri": "https://localhost:8080/"
        },
        "id": "SlNtYgyyI8oW",
        "outputId": "7eea09e1-2dbf-46b5-9959-e2f2cf70a0bd"
      },
      "outputs": [
        {
          "output_type": "stream",
          "name": "stdout",
          "text": [
            "Drive already mounted at /content/drive; to attempt to forcibly remount, call drive.mount(\"/content/drive\", force_remount=True).\n"
          ]
        }
      ],
      "source": [
        "from google.colab import drive\n",
        "drive.mount('/content/drive')"
      ]
    },
    {
      "cell_type": "code",
      "execution_count": null,
      "metadata": {
        "id": "RGYgLrggHutb"
      },
      "outputs": [],
      "source": [
        "import os\n",
        "import numpy as np\n",
        "import subprocess\n",
        "import shutil\n",
        "import time\n",
        "import ipywidgets as widgets\n",
        "from IPython.display import display, Audio, clear_output\n",
        "from moviepy.editor import VideoFileClip, TextClip, CompositeVideoClip\n",
        "from PIL import Image, ImageDraw, ImageFont\n",
        "import numpy as np\n",
        "import re\n",
        "import random\n",
        "import sys\n",
        "# from moviepy.editor import VideoFileClip, ImageClip, CompositeVideoClip\n",
        "import cv2\n",
        "import os\n",
        "import torch\n",
        "from PIL import Image, ImageDraw, ImageFont\n"
      ]
    },
    {
      "cell_type": "code",
      "execution_count": null,
      "metadata": {
        "colab": {
          "base_uri": "https://localhost:8080/"
        },
        "id": "fvhKItUcNz_q",
        "outputId": "5eb5b425-e556-4e44-8e5a-0fecef172e55"
      },
      "outputs": [
        {
          "output_type": "stream",
          "name": "stdout",
          "text": [
            "Together est déjà installé, version inconnue\n"
          ]
        }
      ],
      "source": [
        "try:\n",
        "    import together\n",
        "    try:\n",
        "        version = together.__version__\n",
        "        print(f\"Together est déjà installé, version {version}\")\n",
        "    except AttributeError:\n",
        "        print(\"Together est déjà installé, version inconnue\")\n",
        "except ImportError:\n",
        "    print(\"Together n'est pas installé. Installation en cours...\")\n",
        "    import subprocess\n",
        "    import sys\n",
        "    subprocess.check_call([sys.executable, \"-m\", \"pip\", \"install\", \"--upgrade\", \"together\"])\n",
        "    import together\n",
        "    print(\"Together installé avec succès\")\n"
      ]
    },
    {
      "cell_type": "markdown",
      "metadata": {
        "id": "nB_VPI8kH7UD"
      },
      "source": [
        "##Modules IA"
      ]
    },
    {
      "cell_type": "code",
      "execution_count": null,
      "metadata": {
        "colab": {
          "base_uri": "https://localhost:8080/"
        },
        "id": "T1RPhdqIIJzh",
        "outputId": "3a5bb4ca-9e8f-4070-bfeb-ead915fcb438"
      },
      "outputs": [
        {
          "output_type": "stream",
          "name": "stdout",
          "text": [
            "Whisper est déjà installé, version 20250625\n",
            "Requirement already satisfied: transformers in /usr/local/lib/python3.11/dist-packages (4.53.0)\n",
            "Requirement already satisfied: filelock in /usr/local/lib/python3.11/dist-packages (from transformers) (3.18.0)\n",
            "Requirement already satisfied: huggingface-hub<1.0,>=0.30.0 in /usr/local/lib/python3.11/dist-packages (from transformers) (0.33.0)\n",
            "Requirement already satisfied: numpy>=1.17 in /usr/local/lib/python3.11/dist-packages (from transformers) (2.0.2)\n",
            "Requirement already satisfied: packaging>=20.0 in /usr/local/lib/python3.11/dist-packages (from transformers) (24.2)\n",
            "Requirement already satisfied: pyyaml>=5.1 in /usr/local/lib/python3.11/dist-packages (from transformers) (6.0.2)\n",
            "Requirement already satisfied: regex!=2019.12.17 in /usr/local/lib/python3.11/dist-packages (from transformers) (2024.11.6)\n",
            "Requirement already satisfied: requests in /usr/local/lib/python3.11/dist-packages (from transformers) (2.32.3)\n",
            "Requirement already satisfied: tokenizers<0.22,>=0.21 in /usr/local/lib/python3.11/dist-packages (from transformers) (0.21.2)\n",
            "Requirement already satisfied: safetensors>=0.4.3 in /usr/local/lib/python3.11/dist-packages (from transformers) (0.5.3)\n",
            "Requirement already satisfied: tqdm>=4.27 in /usr/local/lib/python3.11/dist-packages (from transformers) (4.67.1)\n",
            "Requirement already satisfied: fsspec>=2023.5.0 in /usr/local/lib/python3.11/dist-packages (from huggingface-hub<1.0,>=0.30.0->transformers) (2025.3.2)\n",
            "Requirement already satisfied: typing-extensions>=3.7.4.3 in /usr/local/lib/python3.11/dist-packages (from huggingface-hub<1.0,>=0.30.0->transformers) (4.14.0)\n",
            "Requirement already satisfied: hf-xet<2.0.0,>=1.1.2 in /usr/local/lib/python3.11/dist-packages (from huggingface-hub<1.0,>=0.30.0->transformers) (1.1.5)\n",
            "Requirement already satisfied: charset-normalizer<4,>=2 in /usr/local/lib/python3.11/dist-packages (from requests->transformers) (3.4.2)\n",
            "Requirement already satisfied: idna<4,>=2.5 in /usr/local/lib/python3.11/dist-packages (from requests->transformers) (3.10)\n",
            "Requirement already satisfied: urllib3<3,>=1.21.1 in /usr/local/lib/python3.11/dist-packages (from requests->transformers) (2.4.0)\n",
            "Requirement already satisfied: certifi>=2017.4.17 in /usr/local/lib/python3.11/dist-packages (from requests->transformers) (2025.6.15)\n"
          ]
        },
        {
          "output_type": "stream",
          "name": "stderr",
          "text": [
            "Exception ignored in: <function _xla_gc_callback at 0x7ae7fa2399e0>\n",
            "Traceback (most recent call last):\n",
            "  File \"/usr/local/lib/python3.11/dist-packages/jax/_src/lib/__init__.py\", line 96, in _xla_gc_callback\n",
            "    def _xla_gc_callback(*args):\n",
            "    \n",
            "KeyboardInterrupt: \n"
          ]
        },
        {
          "output_type": "stream",
          "name": "stdout",
          "text": [
            "Requirement already satisfied: python-bidi in /usr/local/lib/python3.11/dist-packages (0.6.6)\n"
          ]
        }
      ],
      "source": [
        "# Vérifier si 'whisper' est installé\n",
        "try:\n",
        "    import whisper\n",
        "    print(f\"Whisper est déjà installé, version {whisper.__version__}\")\n",
        "except ImportError:\n",
        "    print(\"Whisper n'est pas installé. Installation en cours...\")\n",
        "    !pip install openai-whisper\n",
        "    import whisper\n",
        "    print(f\"Whisper installé, version {whisper.__version__}\")\n",
        "\n",
        "from PIL import Image\n",
        "!pip install --upgrade transformers\n",
        "import transformers\n",
        "from transformers import M2M100ForConditionalGeneration, M2M100Tokenizer ,AutoTokenizer, AutoModelForSeq2SeqLM\n",
        "import moviepy.editor as mp\n",
        "!pip install python-bidi\n",
        "\n",
        "\n"
      ]
    },
    {
      "cell_type": "markdown",
      "metadata": {
        "id": "p1hfgiPaHgvi"
      },
      "source": [
        "#Structure générale du projet"
      ]
    },
    {
      "cell_type": "markdown",
      "metadata": {
        "id": "scgZmRBMdgx4"
      },
      "source": [
        "##Fonctions et variables globales du code"
      ]
    },
    {
      "cell_type": "markdown",
      "metadata": {
        "id": "ec8YvI0ZJFrb"
      },
      "source": [
        "###Variables globales du code"
      ]
    },
    {
      "cell_type": "markdown",
      "metadata": {
        "id": "9ScXMnH5Fpgy"
      },
      "source": [
        "####Colab"
      ]
    },
    {
      "cell_type": "code",
      "execution_count": null,
      "metadata": {
        "id": "UB9yw_8NJEGw"
      },
      "outputs": [],
      "source": [
        "# Chemins généraux\n",
        "chemin_script_général = os.path.split(os.getcwd())[0]\n",
        "chemin_modeles = os.path.join(chemin_script_général, \"Modèles et polices\")\n",
        "chemin_polices = os.path.join(chemin_modeles, \"Polices\")\n",
        "police_path = os.path.join(chemin_script_général,\"Modèles et polices/Polices/Rubik/static/Rubik-Regular.ttf\"\n",
        "logo_path = os.path.join(chemin_script_général,\"Logo.png\")\n",
        "follow_path = os.path.join(chemin_script_général,\"Réseaux à suivre.jpg\")\n",
        "modele_textuel_choisi = 'small'\n",
        "# Chemins des dossiers vidéo\n",
        "chemin_dossier_0 = os.path.join(chemin_script_général, \"0.Vidéos sans sous dossier\")\n",
        "chemin_dossier_1 = os.path.join(chemin_script_général, \"1.Vidéos vierges avec dossier\")\n",
        "chemin_dossier_2 = os.path.join(chemin_script_général, \"2.Sous-titres Extrait\")\n",
        "chemin_dossier_3 = os.path.join(chemin_script_général, \"3.Sous-titres Traduit (modèle)\")\n",
        "chemin_dossier_4 = os.path.join(chemin_script_général, \"4.Sous-titres Vérifié\")\n",
        "chemin_dossier_5 = os.path.join(chemin_script_général, \"5.Vidéos Montées\")\n",
        "\n",
        "extension_transcription_avec_timecode = \"_transcription_avec_timecodes.txt\"\n",
        "extension_transcription_sans_timecode = \"_transcription_sans_timecodes.txt\"\n",
        "extension_traduit = \"_traduit.txt\"\n",
        "extension_revise = \"_revise.txt\"\n",
        "extension_titre = \"_titre.txt\"\n",
        "extension_montee = \"_final.mp4\"\n",
        "\n",
        "# Chemin de sortie\n",
        "chemin_dossier_sortie = chemin_dossier_5\n",
        "\n",
        "\n",
        "# Titre final\n",
        "title_duration = 0.05\n",
        "message_abonnement_duration = 2"
      ]
    },
    {
      "cell_type": "markdown",
      "metadata": {
        "id": "SPOGlbwMRxGK"
      },
      "source": [
        "###Fonctions globales du code"
      ]
    },
    {
      "cell_type": "markdown",
      "metadata": {
        "id": "v1hLx1zBn8VP"
      },
      "source": [
        "####Manipuler dossiers"
      ]
    },
    {
      "cell_type": "markdown",
      "metadata": {
        "id": "U4EyHoBnMY1c"
      },
      "source": [
        "#####Listing de dossiers ou éléments"
      ]
    },
    {
      "cell_type": "code",
      "execution_count": null,
      "metadata": {
        "id": "gP-_6bUERz8Q"
      },
      "outputs": [],
      "source": [
        "def lister_elements_videos_dossier(dossier, extensions_videos=None, chemin_complet=True):\n",
        "    \"\"\"\n",
        "    Liste tous les fichiers vidéo dans un dossier donné.\n",
        "\n",
        "    :param dossier: Chemin du dossier à analyser.\n",
        "    :param extensions_videos: Liste des extensions vidéo à considérer (par défaut : extensions courantes).\n",
        "    :param chemin_complet: Indique si on retourne le chemin complet ou seulement le nom du fichier.\n",
        "    :return: Liste des chemins ou des noms des fichiers vidéo trouvés.\n",
        "    \"\"\"\n",
        "    # Extensions vidéo par défaut si non spécifiées\n",
        "    if extensions_videos is None:\n",
        "        extensions_videos = ['.mp4', '.mkv', '.avi', '.mov', '.flv', '.wmv', '.webm', '.mpeg', '.mpg', '.3gp','.m4a']\n",
        "\n",
        "    videos = []\n",
        "\n",
        "    # Parcourir tous les fichiers du dossier\n",
        "    try:\n",
        "        for element in os.listdir(dossier):\n",
        "            chemin_complet_element = os.path.join(dossier, element)\n",
        "            if os.path.isfile(chemin_complet_element) and os.path.splitext(element)[-1].lower() in extensions_videos:\n",
        "                if chemin_complet:\n",
        "                    videos.append(chemin_complet_element)\n",
        "                else:\n",
        "                    videos.append(element)\n",
        "    except FileNotFoundError:\n",
        "        print(\"Le dossier spécifié n'existe pas.\")\n",
        "    except PermissionError:\n",
        "        print(\"Accès refusé au dossier spécifié.\")\n",
        "\n",
        "    return videos\n",
        "\n",
        "\n",
        "\n",
        "# # Exemple d'utilisation\n",
        "# videos = lister_elements_videos_dossier(chemin_dossier_entree, chemin_complet=False)\n",
        "# print(\"Vidéos trouvées sans path:\", videos)\n",
        "\n",
        "\n",
        "# # Exemple d'utilisation\n",
        "# videos = lister_elements_videos_dossier(chemin_dossier_entree, chemin_complet=True)\n",
        "# print(\"Vidéos trouvées avec path:\", videos)\n"
      ]
    },
    {
      "cell_type": "code",
      "execution_count": null,
      "metadata": {
        "id": "0v7ifi-KS7OS"
      },
      "outputs": [],
      "source": [
        "def lister_videos_dans_sous_dossiers_uniquement(dossier, extensions_videos=None, chemin_complet=True):\n",
        "    \"\"\"\n",
        "    Liste tous les fichiers vidéo présents uniquement dans les sous-dossiers.\n",
        "\n",
        "    :param dossier: Chemin du dossier à analyser.\n",
        "    :param extensions_videos: Liste des extensions vidéo à considérer (par défaut : extensions courantes).\n",
        "    :param chemin_complet: Indique si on retourne le chemin complet ou seulement le nom du fichier.\n",
        "    :return: Liste des chemins ou des noms des fichiers vidéo trouvés dans les sous-dossiers.\n",
        "    \"\"\"\n",
        "    # Extensions vidéo par défaut si non spécifiées\n",
        "    if extensions_videos is None:\n",
        "        extensions_videos = ['.m4a','.mp4', '.mkv', '.avi', '.mov', '.flv', '.wmv', '.webm', '.mpeg', '.mpg', '.3gp']\n",
        "\n",
        "    videos = []\n",
        "\n",
        "    # Parcourir tous les fichiers et sous-dossiers\n",
        "    try:\n",
        "        for root, _, files in os.walk(dossier):\n",
        "            # Ignorer le dossier racine, ne traiter que les sous-dossiers\n",
        "            if root != dossier:\n",
        "                for file in files:\n",
        "                    if os.path.splitext(file)[-1].lower() in extensions_videos:\n",
        "                        if chemin_complet:\n",
        "                            videos.append(os.path.join(root, file))\n",
        "                        else:\n",
        "                            videos.append(file)\n",
        "    except FileNotFoundError:\n",
        "        print(\"Le dossier spécifié n'existe pas.\")\n",
        "    except PermissionError:\n",
        "        print(\"Accès refusé au dossier spécifié.\")\n",
        "\n",
        "    return videos\n",
        "\n",
        "# # Appel de la fonction pour obtenir les noms de fichiers uniquement\n",
        "# videos_noms = lister_videos_dans_sous_dossiers_uniquement(chemin_dossier_entree, chemin_complet=False)\n",
        "# print(\"Noms des vidéos trouvées dans les sous-dossiers :\", videos_noms)\n",
        "\n",
        "# # Appel de la fonction pour obtenir les chemins complets\n",
        "# videos_chemins = lister_videos_dans_sous_dossiers_uniquement(chemin_dossier_entree, chemin_complet=True)\n",
        "# print(\"Chemins complets des vidéos trouvées dans les sous-dossiers :\", videos_chemins)\n"
      ]
    },
    {
      "cell_type": "code",
      "execution_count": null,
      "metadata": {
        "id": "hPyS7Q9MfOqs"
      },
      "outputs": [],
      "source": [
        "def lister_sous_dossiers_avec_videos(dossier, extensions_videos=None, chemin_complet=True):\n",
        "    \"\"\"\n",
        "    Liste tous les sous-dossiers contenant des fichiers vidéo.\n",
        "\n",
        "    :param dossier: Chemin du dossier à analyser.\n",
        "    :param extensions_videos: Liste des extensions vidéo à considérer (par défaut : extensions courantes).\n",
        "    :param chemin_complet: Indique si on retourne le chemin complet ou seulement le nom des sous-dossiers.\n",
        "    :return: Liste des sous-dossiers contenant des vidéos.\n",
        "    \"\"\"\n",
        "    # Extensions vidéo par défaut si non spécifiées\n",
        "    if extensions_videos is None:\n",
        "        extensions_videos = ['.m4a','.mp4', '.mkv', '.avi', '.mov', '.flv', '.wmv', '.webm', '.mpeg', '.mpg', '.3gp']\n",
        "\n",
        "    sous_dossiers_avec_videos = []\n",
        "\n",
        "    # Vérification si le dossier existe\n",
        "    if not os.path.exists(dossier):\n",
        "        print(\"Le dossier spécifié n'existe pas.\")\n",
        "        return []\n",
        "\n",
        "    try:\n",
        "        # Parcourir les sous-dossiers directs du dossier\n",
        "        for entry in os.scandir(dossier):\n",
        "            if entry.is_dir():  # Vérifie si l'entrée est un sous-dossier\n",
        "                # Parcourir les fichiers dans le sous-dossier\n",
        "                for file in os.listdir(entry.path):\n",
        "                    if os.path.splitext(file)[-1].lower() in extensions_videos:\n",
        "                        if chemin_complet:\n",
        "                            sous_dossiers_avec_videos.append(entry.path)  # Ajouter le chemin complet du sous-dossier\n",
        "                        else:\n",
        "                            sous_dossiers_avec_videos.append(entry.name)  # Ajouter juste le nom du sous-dossier\n",
        "                        break  # Arrêter dès qu'une vidéo est trouvée dans ce sous-dossier\n",
        "    except PermissionError:\n",
        "        print(\"Accès refusé au dossier spécifié.\")\n",
        "    except Exception as e:\n",
        "        print(f\"Erreur lors de la lecture du dossier : {e}\")\n",
        "\n",
        "    return sous_dossiers_avec_videos\n",
        "\n",
        "# # Exemple d'utilisation\n",
        "# sous_dossiers_avec_videos = lister_sous_dossiers_avec_videos(chemin_dossier, chemin_complet=True)\n",
        "# print(\"Sous-dossiers avec des vidéos :\", sous_dossiers_avec_videos)\n"
      ]
    },
    {
      "cell_type": "code",
      "execution_count": null,
      "metadata": {
        "id": "IxcuRVo8imhB"
      },
      "outputs": [],
      "source": [
        "def trouver_audio_dans_dossier(chemin_dossier):\n",
        "    \"\"\"\n",
        "    Recherche un fichier audio dans un dossier donné.\n",
        "\n",
        "    Args:\n",
        "        chemin_dossier (str): Le chemin vers le dossier à analyser.\n",
        "\n",
        "    Returns:\n",
        "        str: Le chemin complet du fichier audio trouvé, ou None si aucun fichier audio n'est trouvé.\n",
        "    \"\"\"\n",
        "    extensions_audio = {\".mp3\", \".wav\", \".flac\", \".aac\", \".ogg\", \".m4a\"}  # Ajouter les extensions nécessaires\n",
        "\n",
        "    # Parcourir les fichiers dans le dossier\n",
        "    for fichier in os.listdir(chemin_dossier):\n",
        "        chemin_fichier = os.path.join(chemin_dossier, fichier)\n",
        "        # Vérifier si c'est un fichier et s'il a une extension audio\n",
        "        if os.path.isfile(chemin_fichier) and os.path.splitext(fichier)[-1].lower() in extensions_audio:\n",
        "            return chemin_fichier\n",
        "\n",
        "    return None\n"
      ]
    },
    {
      "cell_type": "code",
      "execution_count": null,
      "metadata": {
        "id": "-i8CIvdZ0ddg"
      },
      "outputs": [],
      "source": [
        "def recuperer_fichiers_par_suffixe(dossier, suffixe):\n",
        "    \"\"\"\n",
        "    Récupérer tous les fichiers d'un dossier qui se terminent par un certain suffixe.\n",
        "\n",
        "    :param dossier: Chemin du dossier dans lequel chercher les fichiers.\n",
        "    :param suffixe: Suffixe du fichier à chercher (par exemple \"_transcription_avec_timecodes.txt\").\n",
        "    :return: Liste des chemins des fichiers correspondants.\n",
        "    \"\"\"\n",
        "    fichiers_correspondants = []\n",
        "\n",
        "    # Parcourir tous les fichiers du dossier\n",
        "    for fichier in os.listdir(dossier):\n",
        "        chemin_fichier = os.path.join(dossier, fichier)\n",
        "\n",
        "        # Vérifier si c'est un fichier et si son nom se termine par le suffixe donné\n",
        "        if os.path.isfile(chemin_fichier) and fichier.endswith(suffixe):\n",
        "            fichiers_correspondants.append(chemin_fichier)\n",
        "\n",
        "    return fichiers_correspondants\n",
        "\n",
        "# # Exemple d'utilisation\n",
        "# chemin_dossier = \"/content/drive/Othercomputers/Mon ordinateur portable/Projet concret (Drive)/2.Sous-titres Extrait/بشرى فضل المشي الى صلاة الجمعة. عزيز فرحان العنزي\"\n",
        "# suffixe = \"_transcription_avec_timecodes.txt\"\n",
        "\n",
        "# # Récupérer tous les fichiers avec le suffixe \"_transcription_avec_timecodes.txt\"\n",
        "# fichiers = recuperer_fichiers_par_suffixe(chemin_dossier, suffixe)\n",
        "\n",
        "# # Afficher les résultats\n",
        "# print(\"Fichiers trouvés :\")\n",
        "# for fichier in fichiers:\n",
        "#     print(fichier)\n"
      ]
    },
    {
      "cell_type": "markdown",
      "metadata": {
        "id": "gupWhW1BMcGW"
      },
      "source": [
        "#####Générations de dossiers pour vidéos"
      ]
    },
    {
      "cell_type": "code",
      "execution_count": null,
      "metadata": {
        "id": "qYhNxMm_d4hi"
      },
      "outputs": [],
      "source": [
        "def generer_dossier_et_deplacer_video_dedans(video_path):\n",
        "    \"\"\"\n",
        "    Crée un sous-dossier portant le nom de la vidéo (sans extension) et déplace la vidéo dedans.\n",
        "\n",
        "    :param video_path: Chemin du fichier vidéo à déplacer.\n",
        "    :return: True si l'opération réussit, False sinon.\n",
        "    \"\"\"\n",
        "    # Vérifier si le fichier vidéo existe\n",
        "    if not os.path.isfile(video_path):\n",
        "        print(\"Le fichier vidéo n'existe pas.\")\n",
        "        return False\n",
        "\n",
        "    try:\n",
        "        # Extraction du nom de base du fichier vidéo (sans extension)\n",
        "        video_name = os.path.splitext(os.path.basename(video_path))[0]\n",
        "\n",
        "        # Création du sous-dossier avec le nom de la vidéo\n",
        "        folder_path = os.path.join(os.path.dirname(video_path), video_name)\n",
        "\n",
        "        # Si le dossier existe déjà, on ne le recrée pas\n",
        "        if not os.path.exists(folder_path):\n",
        "            os.makedirs(folder_path)\n",
        "\n",
        "        # Nouveau chemin pour la vidéo dans le sous-dossier\n",
        "        new_video_path = os.path.join(folder_path, os.path.basename(video_path))\n",
        "\n",
        "        # Déplacer la vidéo dans le sous-dossier\n",
        "        shutil.move(video_path, new_video_path)\n",
        "        print(f\"La vidéo a été déplacée vers : {new_video_path}\")\n",
        "        return True\n",
        "\n",
        "    except Exception as e:\n",
        "        print(f\"Erreur lors du déplacement de la vidéo : {e}\")\n",
        "        return False\n",
        "\n",
        "# # Exemple d'utilisation\n",
        "# if generer_dossier_et_deplacer_video_dedans(temp_video_path):\n",
        "#     print(\"L'opération a été effectuée avec succès.\")\n",
        "# else:\n",
        "#     print(\"L'opération a échoué.\")\n"
      ]
    },
    {
      "cell_type": "markdown",
      "metadata": {
        "id": "0rcxLHHqMm7O"
      },
      "source": [
        "#####Déplacement de sous dossiers"
      ]
    },
    {
      "cell_type": "code",
      "execution_count": null,
      "metadata": {
        "id": "u5OQJzEaLFtN"
      },
      "outputs": [],
      "source": [
        "def deplacer_dossier(source, destination):\n",
        "    \"\"\"\n",
        "    Déplace un dossier (et son contenu) de 'source' vers 'destination'.\n",
        "\n",
        "    Args:\n",
        "    - source : chemin du dossier à déplacer.\n",
        "    - destination : chemin du dossier de destination.\n",
        "\n",
        "    Retourne:\n",
        "    - True si l'opération réussit, False sinon.\n",
        "    \"\"\"\n",
        "    try:\n",
        "        # Vérifier si le dossier source existe\n",
        "        if not os.path.exists(source):\n",
        "            print(f\"Le dossier source '{source}' n'existe pas.\")\n",
        "            return False\n",
        "\n",
        "        # Vérifier si le dossier de destination existe, sinon le créer\n",
        "        if not os.path.exists(destination):\n",
        "            os.makedirs(destination)\n",
        "\n",
        "        # Déplacer le dossier et son contenu\n",
        "        shutil.move(source, destination)\n",
        "        print(f\"Le dossier '{source}' a été déplacé vers '{destination}'.\")\n",
        "        return True\n",
        "    except Exception as e:\n",
        "        print(f\"Une erreur est survenue : {e}\")\n",
        "        return False\n"
      ]
    },
    {
      "cell_type": "markdown",
      "metadata": {
        "id": "lIZvPOZUmhv8"
      },
      "source": [
        "#####Déplacer vidéos"
      ]
    },
    {
      "cell_type": "code",
      "execution_count": null,
      "metadata": {
        "id": "Q8eK48BtmhED"
      },
      "outputs": [],
      "source": [
        "import shutil\n",
        "import os\n",
        "\n",
        "def deplacer_video(chemin_source, dossier_destination):\n",
        "    \"\"\"\n",
        "    Déplace une vidéo depuis son emplacement source vers un dossier cible.\n",
        "\n",
        "    Args:\n",
        "        chemin_source (str): Chemin complet de la vidéo à déplacer.\n",
        "        dossier_destination (str): Chemin du dossier de destination.\n",
        "    \"\"\"\n",
        "    try:\n",
        "        # Vérifier si le fichier source existe\n",
        "        if not os.path.exists(chemin_source):\n",
        "            print(f\"Le fichier source n'existe pas : {chemin_source}\")\n",
        "            return\n",
        "\n",
        "        # Vérifier si le dossier de destination existe, sinon le créer\n",
        "        if not os.path.exists(dossier_destination):\n",
        "            os.makedirs(dossier_destination)\n",
        "            print(f\"Dossier créé : {dossier_destination}\")\n",
        "\n",
        "        # Construire le chemin final pour la vidéo\n",
        "        nom_fichier = os.path.basename(chemin_source)\n",
        "        chemin_final = os.path.join(dossier_destination, nom_fichier)\n",
        "\n",
        "        # Déplacer le fichier\n",
        "        shutil.move(chemin_source, chemin_final)\n",
        "        print(f\"Vidéo déplacée avec succès vers : {chemin_final}\")\n",
        "\n",
        "    except Exception as e:\n",
        "        print(f\"Erreur lors du déplacement : {e}\")\n"
      ]
    },
    {
      "cell_type": "markdown",
      "metadata": {
        "id": "hQTB42JgoAHH"
      },
      "source": [
        "####Opérations d'extractions"
      ]
    },
    {
      "cell_type": "markdown",
      "metadata": {
        "id": "KHCoMPm2M3ps"
      },
      "source": [
        "#####Extraire audio"
      ]
    },
    {
      "cell_type": "code",
      "execution_count": null,
      "metadata": {
        "id": "q2jSeCNpoDhQ"
      },
      "outputs": [],
      "source": [
        "def extraire_audio_de_video(chemin_video):\n",
        "    \"\"\"\n",
        "    Extrait l'audio d'une vidéo et le sauvegarde dans le même dossier que la vidéo.\n",
        "    Si le fichier audio existe déjà, il sera écrasé.\n",
        "\n",
        "    :param chemin_video: Le chemin du fichier vidéo à partir duquel extraire l'audio.\n",
        "    :return: Le chemin du fichier audio extrait ou None en cas d'erreur.\n",
        "    \"\"\"\n",
        "    if not os.path.isfile(chemin_video):\n",
        "        print(f\"Le fichier vidéo n'existe pas : {chemin_video}\")\n",
        "        return None\n",
        "\n",
        "    dossier_video = os.path.dirname(chemin_video)\n",
        "    nom_fichier_video = os.path.splitext(os.path.basename(chemin_video))[0]\n",
        "    chemin_audio = os.path.join(dossier_video, f\"{nom_fichier_video}.mp3\")\n",
        "\n",
        "    commande = [\n",
        "        \"ffmpeg\",\n",
        "        \"-y\",  # Force l'écrasement des fichiers existants\n",
        "        \"-i\", chemin_video,\n",
        "        \"-vn\",\n",
        "        \"-acodec\", \"mp3\",\n",
        "        chemin_audio\n",
        "    ]\n",
        "\n",
        "    try:\n",
        "        subprocess.run(commande, check=True, stdout=subprocess.PIPE, stderr=subprocess.PIPE)\n",
        "        print(f\"L'audio a été extrait avec succès : {chemin_audio}\")\n",
        "        return chemin_audio\n",
        "    except subprocess.CalledProcessError as e:\n",
        "        print(f\"Erreur lors de l'extraction de l'audio : {e.stderr.decode('utf-8')}\")\n",
        "        return None\n"
      ]
    },
    {
      "cell_type": "markdown",
      "metadata": {
        "id": "8mi3DnpvM6z3"
      },
      "source": [
        "#####Extraire titre"
      ]
    },
    {
      "cell_type": "code",
      "execution_count": null,
      "metadata": {
        "id": "l6kRBapF4N8Q"
      },
      "outputs": [],
      "source": [
        "def extract_title_from_path(title: str):\n",
        "    \"\"\"\n",
        "    Extrait le nom du fichier sans extension depuis un chemin de fichier ou un titre avec extension.\n",
        "\n",
        "    Args:\n",
        "        title (str): Le chemin du fichier ou titre avec ou sans extension.\n",
        "\n",
        "    Returns:\n",
        "        tuple: Titre sans extension, extension\n",
        "    \"\"\"\n",
        "    # Si c'est un chemin de fichier, extraire le nom sans l'extension et l'extension\n",
        "    file_name, file_extension = os.path.splitext(os.path.basename(title))\n",
        "    return file_name, file_extension\n",
        "\n",
        "# def translate_video_title(file_name, file_extension, tokenizer, model, input_lang=\"arb_Arab\", target_lang=\"fra_Latn\"):\n",
        "#     \"\"\"\n",
        "#     Traduit le titre d'une vidéo d'une langue source vers une langue cible à l'aide du modèle de traduction.\n",
        "#     Si le titre contient une extension vidéo, seule la partie titre est traduite, l'extension est conservée.\n",
        "\n",
        "#     :param title: Le titre de la vidéo (sous forme de texte brut, avec ou sans extension).\n",
        "#     :param input_lang: Langue de l'entrée (par exemple 'ar' pour arabe).\n",
        "#     :param target_lang: Langue cible pour la traduction (par exemple 'fr' pour français).\n",
        "#     :return: Le titre traduit avec son extension.\n",
        "#     \"\"\"\n",
        "#     # Extraire le titre sans l'extension et l'extension du fichier\n",
        "#     print(\"jojo1\")\n",
        "#     # Traduire uniquement le texte du titre (sans extension)\n",
        "#     titre_traduit = traduire_texte_segment(file_name, tokenizer, model, input_lang, target_lang)\n",
        "\n",
        "#     # Ajouter l'extension d'origine au titre traduit\n",
        "#     translated_title_with_extension = titre_traduit + file_extension\n",
        "\n",
        "#     return translated_title_with_extension\n",
        "\n"
      ]
    },
    {
      "cell_type": "markdown",
      "metadata": {
        "id": "k0fKGHPILJmJ"
      },
      "source": [
        "##Extraction du texte"
      ]
    },
    {
      "cell_type": "markdown",
      "metadata": {
        "id": "GLsvAms3MR07"
      },
      "source": [
        "###Extraction si sous titres présents dans la vidéo"
      ]
    },
    {
      "cell_type": "markdown",
      "metadata": {
        "id": "lDnpRKaNbReo"
      },
      "source": [
        "####Fonctions"
      ]
    },
    {
      "cell_type": "code",
      "execution_count": null,
      "metadata": {
        "id": "zTktUICaJE2b"
      },
      "outputs": [],
      "source": [
        "def extraire_sous_titres_si_deja_inclus_dans_video_vlc(video_path, output_folder):\n",
        "    \"\"\"\n",
        "    Extrait les sous-titres d'une vidéo à l'aide de ffmpeg et les sauvegarde dans un fichier SRT.\n",
        "    Retourne un booléen pour indiquer le succès ou l'échec de l'opération.\n",
        "\n",
        "    :param video_path: Chemin du fichier vidéo.\n",
        "    :param output_folder: Dossier où sauvegarder les sous-titres extraits.\n",
        "    :return: True si l'extraction réussit, False sinon.\n",
        "    \"\"\"\n",
        "    # Vérifier si la vidéo existe\n",
        "    if not os.path.isfile(video_path):\n",
        "        print(\"Erreur : Le fichier vidéo spécifié n'existe pas.\")\n",
        "        return False\n",
        "\n",
        "    # Assurez-vous que le dossier de sortie existe\n",
        "    if not os.path.exists(output_folder):\n",
        "        os.makedirs(output_folder)\n",
        "\n",
        "    # Extraction du nom de base du fichier vidéo\n",
        "    video_name = os.path.basename(video_path)\n",
        "    # Nom du fichier de sous-titres de sortie\n",
        "    subtitles_path = os.path.join(output_folder, \"subtitles.srt\")\n",
        "\n",
        "    # Commande ffmpeg pour extraire les sous-titres\n",
        "    command = [\n",
        "        'ffmpeg', '-i', video_path,\n",
        "        '-map', '0:s:0',\n",
        "        subtitles_path\n",
        "    ]\n",
        "\n",
        "    # Exécution de la commande ffmpeg\n",
        "    try:\n",
        "        subprocess.run(command, check=True, text=True, stderr=subprocess.PIPE)\n",
        "        print(f\"Les sous-titres ont été extraits avec succès et sauvegardés dans {subtitles_path}\")\n",
        "        return True\n",
        "    except subprocess.CalledProcessError as e:\n",
        "        print(\"Erreur lors de l'extraction des sous-titres.\")\n",
        "        print(f\"Sortie de l'erreur : {e.stderr}\")\n",
        "        return False\n",
        "\n"
      ]
    },
    {
      "cell_type": "markdown",
      "metadata": {
        "id": "STSJJlFOMVay"
      },
      "source": [
        "###Génération si sous-titres absents (à privilégier très fortement)"
      ]
    },
    {
      "cell_type": "markdown",
      "metadata": {
        "id": "doC0Stn_lFY7"
      },
      "source": [
        "####Charger modèle"
      ]
    },
    {
      "cell_type": "code",
      "execution_count": null,
      "metadata": {
        "id": "6oWOpbOUlI8P"
      },
      "outputs": [],
      "source": [
        "import os\n",
        "\n",
        "def charger_modele_textuel(chemin_modeles, modele = modele_textuel_choisi):\n",
        "    \"\"\"\n",
        "    Charge un modèle Whisper à partir d'un chemin spécifié.\n",
        "\n",
        "    Args:\n",
        "        chemin_modeles (str): Chemin du dossier contenant les modèles.\n",
        "        modele (str): Nom du modèle (sans extension .pt).\n",
        "\n",
        "    Returns:\n",
        "        whisper.Model: Le modèle chargé si réussi, ou None en cas d'erreur.\n",
        "    \"\"\"\n",
        "    chemin_modele_complet = os.path.join(chemin_modeles, f\"{modele}.pt\")\n",
        "\n",
        "    # Vérification de l'existence du fichier modèle\n",
        "    if not os.path.isfile(chemin_modele_complet):\n",
        "        print(f\"Le modèle '{modele}.pt' n'a pas été trouvé dans le chemin spécifié : {chemin_modele_complet}\")\n",
        "        return None\n",
        "\n",
        "    # Tentative de chargement du modèle\n",
        "    try:\n",
        "        modele_whisper = whisper.load_model(chemin_modele_complet)\n",
        "        print(f\"Modèle '{modele}' chargé avec succès.\")\n",
        "        return modele_whisper\n",
        "    except Exception as e:\n",
        "        print(f\"Erreur lors du chargement du modèle : {e}\")\n",
        "        return None\n"
      ]
    },
    {
      "cell_type": "markdown",
      "metadata": {
        "id": "-O-v1N0Eznxw"
      },
      "source": [
        "####Sans timecode"
      ]
    },
    {
      "cell_type": "code",
      "execution_count": null,
      "metadata": {
        "id": "jahNPOcUMZNo"
      },
      "outputs": [],
      "source": [
        "def transcrire_audio_vers_texte_sans_code_temps(fichier_audio, modele_whisper, langue=\"ar\"):\n",
        "    \"\"\"\n",
        "    Transcrire les fichiers audio en texte sans code temporel en utilisant un modèle Whisper à partir d'un chemin spécifique.\n",
        "\n",
        "    :param fichiers_audio: Liste des chemins vers les fichiers audio.\n",
        "    :param chemin_modeles: Le chemin vers le dossier contenant les modèles Whisper.\n",
        "    :param modele: Le modèle Whisper à utiliser (par défaut : \"base\").\n",
        "    :param langue: La langue de l'audio (par défaut : \"ar\" pour arabe).\n",
        "    :return: Liste des textes transcrits pour chaque fichier audio.\n",
        "    \"\"\"\n",
        "    # Construire le chemin complet du modèle avec l'extension \".pt\"\n",
        "\n",
        "    transcriptions = []\n",
        "    jojo = 0\n",
        "    try:\n",
        "        jojo += 1\n",
        "        print(\"On est au fichier numéro =\", jojo)\n",
        "        print(\"Fichier audio = \" , fichier_audio)\n",
        "        # Transcrire le fichier audio\n",
        "        resultat = modele_whisper.transcribe(fichier_audio, language=langue, fp16=False)\n",
        "\n",
        "        # Extraire le texte sans le code temporel\n",
        "        transcription = resultat[\"text\"]\n",
        "        transcriptions.append(transcription)\n",
        "\n",
        "        # Sauvegarder la transcription dans un fichier texte dans le même dossier que l'audio\n",
        "        dossier_audio = os.path.dirname(fichier_audio)\n",
        "        nom_fichier_audio = os.path.splitext(os.path.basename(fichier_audio))[0]\n",
        "        chemin_fichier_transcription = os.path.join(dossier_audio, f\"{nom_fichier_audio}{extension_transcription_sans_timecode}\")\n",
        "\n",
        "        with open(chemin_fichier_transcription, \"w\", encoding=\"utf-8\") as f:\n",
        "            f.write(transcription)\n",
        "\n",
        "        print(f\"Transcription pour {fichier_audio} sauvegardée dans {chemin_fichier_transcription}\")\n",
        "\n",
        "    except Exception as e:\n",
        "        print(f\"Erreur lors de la transcription de {fichier_audio}: {e}\")\n",
        "        transcriptions.append(None)\n",
        "\n",
        "    return transcriptions\n",
        "\n",
        "\n",
        "\n"
      ]
    },
    {
      "cell_type": "markdown",
      "metadata": {
        "id": "-z3Qh_LLzqgl"
      },
      "source": [
        "####Avec timecode"
      ]
    },
    {
      "cell_type": "code",
      "execution_count": null,
      "metadata": {
        "id": "gM3uXCqmmnSE"
      },
      "outputs": [],
      "source": [
        "import os\n",
        "\n",
        "def transcrire_audio_vers_texte_avec_code_temps(fichier_audio, modele_whisper, langue=\"ar\", extension_transcription_avec_timecode=extension_transcription_avec_timecode):\n",
        "    try:\n",
        "        # Transcription avec des timecodes\n",
        "        resultat = modele_whisper.transcribe(fichier_audio, language=langue, fp16=False)\n",
        "\n",
        "        transcription = \"\"\n",
        "        for segment in resultat[\"segments\"]:\n",
        "            debut = segment[\"start\"]\n",
        "            fin = segment[\"end\"]\n",
        "            texte = segment[\"text\"]\n",
        "            transcription += f\"[{debut:.2f} - {fin:.2f}] {texte}\\n\"\n",
        "\n",
        "        # Construire le chemin du fichier de transcription avec timecodes\n",
        "        dossier_audio = os.path.dirname(fichier_audio)\n",
        "        nom_fichier_audio = os.path.splitext(os.path.basename(fichier_audio))[0]\n",
        "        chemin_fichier_transcription = os.path.join(dossier_audio, f\"{nom_fichier_audio}{extension_transcription_avec_timecode}\")\n",
        "\n",
        "        # Sauvegarder la transcription avec timecodes dans un fichier\n",
        "        with open(chemin_fichier_transcription, \"w\", encoding=\"utf-8\") as f:\n",
        "            f.write(transcription)\n",
        "\n",
        "        print(f\"Transcription avec timecodes pour {fichier_audio} sauvegardée dans {chemin_fichier_transcription}\")\n",
        "        return transcription  # Retourne la transcription complète\n",
        "\n",
        "    except Exception as e:\n",
        "        erreur_message = f\"Erreur lors de la transcription de {fichier_audio}: {e}\"\n",
        "        print(erreur_message)\n",
        "        return erreur_message  # Retourne le message d'erreur\n",
        "\n",
        "\n",
        "\n"
      ]
    },
    {
      "cell_type": "markdown",
      "metadata": {
        "id": "fKX3Ivt93imA"
      },
      "source": [
        "####Tests"
      ]
    },
    {
      "cell_type": "code",
      "execution_count": null,
      "metadata": {
        "id": "oQnqbLtY2loR"
      },
      "outputs": [],
      "source": [
        "import os\n",
        "import time\n",
        "\n",
        "def tester_modeles_et_afficher_resultats(fichiers_audio, chemin_modeles, langue=\"ar\"):\n",
        "    # Récupérer tous les modèles dans le dossier Models\n",
        "    modeles_disponibles = [f for f in os.listdir(chemin_modeles) if f.endswith('.pt')]\n",
        "\n",
        "    tableau_recapitulatif = []\n",
        "\n",
        "    for modele_fichier in modeles_disponibles:\n",
        "        modele = os.path.splitext(modele_fichier)[0]  # Extrait le nom du modèle sans l'extension '.pt'\n",
        "        print(f\"Test du modèle : {modele}\")\n",
        "\n",
        "        # Démarrer la chronométrie pour mesurer le temps de transcription\n",
        "        start_time = time.time()\n",
        "\n",
        "        # Transcrire l'audio avec le modèle actuel\n",
        "        textes_transcrits = transcrire_audio_vers_texte_avec_code_temps(fichiers_audio, chemin_modeles, modele, langue)\n",
        "\n",
        "        for texte in textes_transcrits:\n",
        "            if texte:\n",
        "                print(f\"\\nModèle: {modele}\")\n",
        "                print(texte)\n",
        "\n",
        "                # Ajouter les résultats dans le tableau récapitulatif\n",
        "                tableau_recapitulatif.append({\n",
        "                    'Modèle': modele,\n",
        "                    'Texte': texte,\n",
        "                    'Temps (en secondes)': round(time.time() - start_time, 2)  # Temps écoulé\n",
        "                })\n",
        "\n",
        "        print(f\"Temps total pour le modèle '{modele}': {round(time.time() - start_time, 2)} secondes\\n\")\n",
        "\n",
        "    # Créer un tableau récapitulatif et l'afficher\n",
        "    import pandas as pd\n",
        "    df_recapitulatif = pd.DataFrame(tableau_recapitulatif)\n",
        "\n",
        "    return df_recapitulatif\n"
      ]
    },
    {
      "cell_type": "markdown",
      "metadata": {
        "id": "FlNKV5WkM5nw"
      },
      "source": [
        "##Traduction"
      ]
    },
    {
      "cell_type": "markdown",
      "metadata": {
        "id": "Vs3t2tgab7wi"
      },
      "source": [
        "###Prétraitement (Si besoin)"
      ]
    },
    {
      "cell_type": "markdown",
      "metadata": {
        "id": "W1v9J5pUipu5"
      },
      "source": [
        "####Si les sous-titres viennent directement de youtube, prétraitement nécessaire pour harmoniser le format"
      ]
    },
    {
      "cell_type": "code",
      "execution_count": null,
      "metadata": {
        "id": "zIBHSUf_ipP9"
      },
      "outputs": [],
      "source": [
        "import re\n",
        "\n",
        "def convert_srt_to_custom_format(input_file, output_file):\n",
        "    # Lire le fichier d'entrée\n",
        "    with open(input_file, 'r', encoding='utf-8') as infile:\n",
        "        srt_text = infile.read()\n",
        "\n",
        "    lines = srt_text.strip().split(\"\\n\")\n",
        "    result = []\n",
        "\n",
        "    # Traitement des lignes du fichier SRT (chaque entrée comprend un numéro, un intervalle de temps et un texte)\n",
        "    i = 0\n",
        "    while i < len(lines):\n",
        "        # Vérification que la ligne contient un numéro et un intervalle de temps\n",
        "        if i + 1 < len(lines) and \" --> \" in lines[i + 1]:\n",
        "            time_range = lines[i + 1]\n",
        "            start_time, end_time = time_range.split(\" --> \")\n",
        "\n",
        "            # Convertir le format de temps (00:00:00,000 --> 00:00:04,240 en [0.00 - 4.18])\n",
        "            start_seconds = convert_time_to_seconds(start_time)\n",
        "            end_seconds = convert_time_to_seconds(end_time)\n",
        "\n",
        "            # Nettoyer le texte, enlever les balises <font> et les espaces supplémentaires\n",
        "            if i + 2 < len(lines):\n",
        "                text = re.sub(r'<font.*?>|</font>', '', lines[i + 2]).strip()\n",
        "            else:\n",
        "                text = \"\"\n",
        "\n",
        "            # Ajouter le texte converti au résultat\n",
        "            result.append(f\"[{start_seconds:.2f} - {end_seconds:.2f}]  {text}\")\n",
        "            i += 3  # Passer à la prochaine entrée (numéro + time range + texte)\n",
        "        else:\n",
        "            i += 1  # Passer à la ligne suivante si ce n'est pas une entrée valide\n",
        "\n",
        "    # Écrire le résultat dans le fichier de sortie\n",
        "    with open(output_file, 'w', encoding='utf-8') as outfile:\n",
        "        outfile.write(\"\\n\".join(result))\n",
        "\n",
        "def convert_time_to_seconds(time_str):\n",
        "    \"\"\" Convertir le temps de HH:MM:SS,MMM en secondes (float). \"\"\"\n",
        "    # Remplacer la virgule par un point pour séparer les millisecondes\n",
        "    time_str = time_str.replace(\",\", \".\")\n",
        "    time_parts = time_str.split(\":\")\n",
        "\n",
        "    # Gestion des cas où l'heure, les minutes ou les secondes sont manquantes\n",
        "    if len(time_parts) == 3:  # Format HH:MM:SS.MS\n",
        "        hours, minutes, seconds = map(float, time_parts)\n",
        "    elif len(time_parts) == 2:  # Format MM:SS.MS\n",
        "        hours = 0\n",
        "        minutes, seconds = map(float, time_parts)\n",
        "    elif len(time_parts) == 1:  # Format SS.MS (rare, mais possible)\n",
        "        hours = 0\n",
        "        minutes = 0\n",
        "        seconds = float(time_parts[0])\n",
        "\n",
        "    return hours * 3600 + minutes * 60 + seconds\n"
      ]
    },
    {
      "cell_type": "markdown",
      "metadata": {
        "id": "M89DKM-ckWs0"
      },
      "source": [
        "####Chargement modèle traduction"
      ]
    },
    {
      "cell_type": "code",
      "execution_count": null,
      "metadata": {
        "id": "mY6CFwXVb_VS"
      },
      "outputs": [],
      "source": [
        "def charger_et_enregistrer_modele_nllb(chemin_modeles, model_name=\"facebook/nllb-200-distilled-600M\"):\n",
        "    \"\"\"\n",
        "    Charge le modèle NLLB-200 et son tokenizer, et sauvegarde le modèle dans le chemin spécifié.\n",
        "\n",
        "    Args:\n",
        "        chemin_modeles (str): Chemin où enregistrer ou charger le modèle.\n",
        "        model_name (str): Nom du modèle à utiliser.\n",
        "\n",
        "    Returns:\n",
        "        tokenizer, model: Tokenizer et modèle chargés.\n",
        "    \"\"\"\n",
        "    chemin_complet = os.path.join(chemin_modeles, model_name.replace('/', '_'))  # Remplace les '/' pour éviter les erreurs de chemin\n",
        "\n",
        "    if not os.path.exists(chemin_complet):\n",
        "        os.makedirs(chemin_complet, exist_ok=True)\n",
        "\n",
        "        # Télécharger le modèle et le tokenizer\n",
        "        tokenizer = AutoTokenizer.from_pretrained(model_name)\n",
        "        model = AutoModelForSeq2SeqLM.from_pretrained(model_name)\n",
        "\n",
        "        # Enregistrer le modèle et le tokenizer\n",
        "        tokenizer.save_pretrained(chemin_complet)\n",
        "        model.save_pretrained(chemin_complet)\n",
        "        print(f\"Modèle téléchargé et enregistré dans {chemin_complet}.\")\n",
        "    else:\n",
        "        # Charger le modèle et le tokenizer depuis le disque\n",
        "        tokenizer = AutoTokenizer.from_pretrained(chemin_complet)\n",
        "        model = AutoModelForSeq2SeqLM.from_pretrained(chemin_complet)\n",
        "        print(f\"Modèle chargé depuis {chemin_complet}.\")\n",
        "\n",
        "    return tokenizer, model\n"
      ]
    },
    {
      "cell_type": "markdown",
      "metadata": {
        "id": "2mH1BodXcHUq"
      },
      "source": [
        "###Traduction concrète avec modèle"
      ]
    },
    {
      "cell_type": "markdown",
      "metadata": {
        "id": "_5cKBbYM6yfS"
      },
      "source": [
        "#### Avec timecodes"
      ]
    },
    {
      "cell_type": "markdown",
      "metadata": {
        "id": "7lx2mUz6Pj2F"
      },
      "source": [
        "#####Arabe -> Francais par défaut, sinon langues à mettre en paramètre"
      ]
    },
    {
      "cell_type": "code",
      "execution_count": null,
      "metadata": {
        "id": "Dt4pqs16NBEb"
      },
      "outputs": [],
      "source": [
        "def traduire_texte_segment(texte, tokenizer, model, langue_source=\"arb_Arab\", langue_cible=\"fra_Latn\"):\n",
        "    \"\"\"\n",
        "    Traduit un texte donné d'une langue source vers une langue cible.\n",
        "\n",
        "    Args:\n",
        "        texte (str): Texte à traduire.\n",
        "        tokenizer: Tokenizer du modèle de traduction.\n",
        "        model: Modèle de traduction.\n",
        "        langue_source (str): Code langue source (ex: \"arb\").\n",
        "        langue_cible (str): Code langue cible (ex: \"fra\").\n",
        "\n",
        "    Returns:\n",
        "        str: Texte traduit.\n",
        "    \"\"\"\n",
        "    # Définir les IDs des langues manuellement si `lang_code_to_id` n'est pas disponible\n",
        "    lang_code_to_id = {\n",
        "        \"arb_Arab\": 256011,  # ID pour l'arabe\n",
        "        \"fra_Latn\": 256057,   # ID pour le français\n",
        "        \"eng_Latn\": 250004   # ID pour l'anglais\n",
        "\n",
        "    }\n",
        "\n",
        "    if not texte.strip():  # Ignorer les textes vides\n",
        "        return \"\"\n",
        "\n",
        "    tokenizer.src_lang = langue_source\n",
        "    encoded_input = tokenizer(texte, return_tensors=\"pt\")\n",
        "    generated_tokens = model.generate(\n",
        "        **encoded_input,\n",
        "        forced_bos_token_id=lang_code_to_id[langue_cible]\n",
        "    )\n",
        "    return tokenizer.decode(generated_tokens[0], skip_special_tokens=True)\n",
        "\n",
        "def traduire_sous_titres_timecode(lignes, tokenizer, model, langue_source=\"arb_Arab\", langue_cible=\"fra_Latn\"):\n",
        "    \"\"\"\n",
        "    Traduit des sous-titres avec timecodes d'une langue source vers une langue cible.\n",
        "\n",
        "    Args:\n",
        "        lignes (list): Liste des lignes du fichier SRT (chaque ligne avec timecode et texte).\n",
        "        tokenizer: Tokenizer du modèle de traduction.\n",
        "        model: Modèle de traduction.\n",
        "        langue_source (str): Code langue source (ex: \"arb\").\n",
        "        langue_cible (str): Code langue cible (ex: \"fra\").\n",
        "\n",
        "    Returns:\n",
        "        list: Lignes traduites avec timecodes conservés.\n",
        "    \"\"\"\n",
        "    lignes_traduites = []\n",
        "\n",
        "    for ligne in lignes:\n",
        "        match = re.match(r\"\\[(\\d+\\.\\d+) - (\\d+\\.\\d+)]\\s*(.*)\", ligne.strip())\n",
        "        if match:\n",
        "            start_time = match.group(1)\n",
        "            end_time = match.group(2)\n",
        "            texte_original = match.group(3).strip()\n",
        "\n",
        "            # Traduire le texte\n",
        "            texte_traduit = traduire_texte_segment(texte_original, tokenizer, model, langue_source, langue_cible)\n",
        "\n",
        "            # Ajouter la ligne traduite avec le timecode\n",
        "            lignes_traduites.append(f\"[{start_time} - {end_time}]  {texte_traduit}\")\n",
        "        else:\n",
        "            # Conserver les lignes sans texte (numéros de sous-titres, par exemple)\n",
        "            lignes_traduites.append(ligne.strip())\n",
        "\n",
        "    return lignes_traduites\n"
      ]
    },
    {
      "cell_type": "markdown",
      "metadata": {
        "id": "vr4DhYv4edkH"
      },
      "source": [
        "######Test"
      ]
    },
    {
      "cell_type": "markdown",
      "metadata": {
        "id": "m0llYmCy62Rq"
      },
      "source": [
        "####Sans timecodes"
      ]
    },
    {
      "cell_type": "markdown",
      "metadata": {
        "id": "mWwcfXJ769zw"
      },
      "source": [
        "#####Arabe -> Francais par défaut, sinon langues à mettre en paramètre"
      ]
    },
    {
      "cell_type": "code",
      "execution_count": null,
      "metadata": {
        "id": "8adswB_N67dE"
      },
      "outputs": [],
      "source": [
        "import os\n",
        "\n",
        "def traduire_fichier_textuel_sans_timecode(tokenizer, model, chemin_entree, langue_source=\"arb_Arab\", langue_cible=\"fra_Latn\", chemin_sortie=None):\n",
        "    \"\"\"\n",
        "    Traduit un fichier texte d'une langue source à une langue cible sans prendre en compte les timecodes.\n",
        "\n",
        "    Args:\n",
        "        tokenizer: Le tokenizer NLLB chargé.\n",
        "        model: Le modèle NLLB chargé.\n",
        "        chemin_entree (str): Chemin du fichier d'entrée à traduire.\n",
        "        langue_source (str): Code de langue de la langue source (par défaut \"ar\").\n",
        "        langue_cible (str): Code de langue de la langue cible (par défaut \"fr\").\n",
        "        chemin_sortie (str, optionnel): Chemin du fichier de sortie. Par défaut, ajoute \"_fr\" au nom du fichier d'entrée.\n",
        "\n",
        "    Returns:\n",
        "        str: Chemin du fichier traduit.\n",
        "    \"\"\"\n",
        "    # Vérification de l'existence du fichier d'entrée\n",
        "    if not os.path.exists(chemin_entree):\n",
        "        raise FileNotFoundError(f\"Le fichier d'entrée {chemin_entree} n'existe pas.\")\n",
        "\n",
        "    # Lire le contenu du fichier d'entrée\n",
        "    with open(chemin_entree, \"r\", encoding=\"utf-8\") as fichier:\n",
        "        texte = fichier.read()\n",
        "\n",
        "    # Configurer la langue source pour le tokenizer\n",
        "    tokenizer.src_lang = langue_source\n",
        "\n",
        "    # Encoder le texte source pour le modèle\n",
        "    encoded_input = tokenizer(texte, return_tensors=\"pt\", padding=True, truncation=True)\n",
        "\n",
        "    # Utiliser lang2id pour récupérer l'ID de langue pour la langue cible\n",
        "    lang_id = tokenizer.lang2id[langue_cible]\n",
        "\n",
        "    # Générer la traduction avec le modèle\n",
        "    output = model.generate(**encoded_input, forced_bos_token_id=lang_id)\n",
        "\n",
        "    # Décoder le texte traduit\n",
        "    traduction = tokenizer.batch_decode(output, skip_special_tokens=True)[0]\n",
        "\n",
        "    # Déterminer le chemin du fichier de sortie\n",
        "    if chemin_sortie is None:\n",
        "        base, ext = os.path.splitext(chemin_entree)\n",
        "        chemin_sortie = f\"{base}_traduit_{langue_cible}{ext}\"\n",
        "\n",
        "    # Écrire la traduction dans le fichier de sortie\n",
        "    with open(chemin_sortie, \"w\", encoding=\"utf-8\") as sortie_fichier:\n",
        "        sortie_fichier.write(traduction)\n",
        "\n",
        "    print(f\"Traduction enregistrée dans {chemin_sortie}.\")\n",
        "    return chemin_sortie\n",
        "\n",
        "\n"
      ]
    },
    {
      "cell_type": "markdown",
      "metadata": {
        "id": "omq4cPR23c-k"
      },
      "source": [
        "###Traduction concrète avec API"
      ]
    },
    {
      "cell_type": "code",
      "execution_count": null,
      "metadata": {
        "id": "xKq8OjTe3fRc"
      },
      "outputs": [],
      "source": [
        "import re\n",
        "from together import Together\n",
        "\n",
        "MOTS_ANGLAIS_COMMUNS = set([\n",
        "    \"the\", \"is\", \"are\", \"you\", \"that\", \"have\", \"with\", \"this\",\n",
        "    \"not\", \"for\", \"it\", \"be\", \"by\", \"from\", \"was\", \"were\", \"they\",\n",
        "    \"their\", \"them\", \"his\", \"her\", \"would\", \"could\", \"should\", \"will\"\n",
        "])\n",
        "\n",
        "def contient_arabe(texte):\n",
        "    return bool(re.search(r'[\\u0600-\\u06FF\\u0750-\\u077F\\u08A0-\\u08FF\\uFB50-\\uFDFF\\uFE70-\\uFEFF\\uFDFD\\uFDFA]', texte))\n",
        "\n",
        "def contient_trop_d_anglais(texte, seuil_ratio=0.10):\n",
        "    mots = re.findall(r'\\b\\w+\\b', texte.lower())\n",
        "    if not mots:\n",
        "        return False\n",
        "    nb_total = len(mots)\n",
        "    nb_anglais = sum(1 for mot in mots if mot in MOTS_ANGLAIS_COMMUNS)\n",
        "    return (nb_anglais / nb_total) > seuil_ratio\n",
        "\n",
        "\n",
        "def Traduire_texte_avec_API(text):\n",
        "    client = Together(api_key=\"\") #Mettez votre API ici :-)\n",
        "\n",
        "    lines = text.split(\"\\n\")\n",
        "    group_size = 30\n",
        "    num_groups = (len(lines) // group_size) + (1 if len(lines) % group_size != 0 else 0)\n",
        "\n",
        "    all_translated_text = \"\"\n",
        "\n",
        "    for i in range(num_groups):\n",
        "        start_index = i * group_size\n",
        "        end_index = (i + 1) * group_size\n",
        "        group_text = \"\\n\".join(lines[start_index:end_index])\n",
        "\n",
        "        prompt = f\"\"\"\n",
        "        Traduis intégralement ce texte en français **sans modifier sa structure**.\n",
        "\n",
        "        – **Chaque ligne commence par un timecode** : conserve-le **strictement inchangé**.\n",
        "        – **Ne modifie pas l’ordre ni le nombre de lignes**. Le texte traduit doit avoir **exactement le même nombre de lignes** que l’original.\n",
        "        – **Ne fusionne, ne divise, ne reformule, ne supprime aucune ligne**.\n",
        "        – Traduis uniquement le contenu après chaque timecode. **Aucune explication, commentaire, ou sortie additionnelle n’est autorisée**.\n",
        "        – **Utilise \"Allah\"** si \"Dieu\" fait référence à Allah.\n",
        "        – **N’utilise pas de caractères arabes, balises HTML ou symboles spéciaux**.\n",
        "        – Adapte la ponctuation au français **sans changer la structure ou le sens**.\n",
        "\n",
        "        Voici le texte à traduire :\n",
        "        {group_text}\n",
        "        \"\"\"\n",
        "\n",
        "        tentative = 0\n",
        "        max_tentatives = 5\n",
        "        traduction_valide = False\n",
        "        texte_traduit = \"\"\n",
        "\n",
        "        while not traduction_valide and tentative < max_tentatives:\n",
        "            response = client.chat.completions.create(\n",
        "                model=\"meta-llama/Llama-3.3-70B-Instruct-Turbo-Free\",\n",
        "                messages=[{\"role\": \"user\", \"content\": prompt}],\n",
        "            )\n",
        "            texte_traduit = re.sub(r\"<think>.*?</think>\", \"\", response.choices[0].message.content, flags=re.DOTALL).strip()\n",
        "\n",
        "            if not contient_arabe(texte_traduit) and not contient_trop_d_anglais(texte_traduit):\n",
        "                traduction_valide = True\n",
        "            else:\n",
        "                tentative += 1\n",
        "                if tentative < max_tentatives:\n",
        "                    print(f\"Bloc {i+1}/{num_groups} invalide. Nouvelle tentative ({tentative + 1})...\")\n",
        "                else:\n",
        "                    print(f\"Bloc {i+1}/{num_groups} toujours invalide après {max_tentatives} tentatives.\")\n",
        "\n",
        "        all_translated_text += texte_traduit + \"\\n\"\n",
        "        apercu = \"\\n\".join(texte_traduit.splitlines()[:2])\n",
        "        print(f\"Bloc {i+1}/{num_groups} traité.\\nAperçu :\\n{apercu}\\n\")\n",
        "    return all_translated_text\n"
      ]
    },
    {
      "cell_type": "code",
      "execution_count": null,
      "metadata": {
        "id": "lc5mYeTAvTL0"
      },
      "outputs": [],
      "source": [
        "def Traduire_titre_avec_API_short(text):\n",
        "    client = Together(api_key=\"\") #Mettez votre API ici :-)\n",
        "    prompt = f\"Traduis ce titre en français en ne gardant que le titre. \\n{text}\"\n",
        "\n",
        "    response = client.chat.completions.create(\n",
        "        model=\"deepseek-ai/DeepSeek-R1-Distill-Llama-70B-free\",\n",
        "        messages=[{\"role\": \"user\", \"content\": prompt}],\n",
        "    )\n",
        "\n",
        "    translated_text = response.choices[0].message.content\n",
        "\n",
        "    # Supprimer la section <think>...</think>\n",
        "    cleaned_text = re.sub(r\"<think>.*?</think>\", \"\", translated_text, flags=re.DOTALL).strip()\n",
        "\n",
        "    return cleaned_text\n"
      ]
    },
    {
      "cell_type": "markdown",
      "source": [
        "###Vérifications texte traduit"
      ],
      "metadata": {
        "id": "5D9v1lyjy_Df"
      }
    },
    {
      "cell_type": "code",
      "source": [
        "def contient_caracteres_arabes_ou_speciaux(texte):\n",
        "    \"\"\"\n",
        "    Détecte si le texte contient des caractères arabes ou des symboles spéciaux\n",
        "    comme ﷺ, ﷻ, etc.\n",
        "    \"\"\"\n",
        "    return bool(re.search(r'[\\u0600-\\u06FF\\u0750-\\u077F\\u08A0-\\u08FF\\uFB50-\\uFDFF\\uFE70-\\uFEFF\\uFDFD\\uFDFA]', texte))"
      ],
      "metadata": {
        "id": "NCeWgum0zA8P"
      },
      "execution_count": null,
      "outputs": []
    },
    {
      "cell_type": "markdown",
      "metadata": {
        "id": "zThLEiDen43C"
      },
      "source": [
        "###Post-Traitement"
      ]
    },
    {
      "cell_type": "markdown",
      "metadata": {
        "id": "AxFu_hdDn8dJ"
      },
      "source": [
        "####Enlever majuscules inutiles"
      ]
    },
    {
      "cell_type": "markdown",
      "metadata": {
        "id": "_XknrIW-n_Mp"
      },
      "source": [
        "#####Francais"
      ]
    },
    {
      "cell_type": "code",
      "execution_count": null,
      "metadata": {
        "id": "s7FUMEY_n7Ri"
      },
      "outputs": [],
      "source": [
        "import re\n",
        "\n",
        "def corriger_majuscule(fichier_entree, fichier_sortie=None):\n",
        "    # Lire le texte depuis le fichier d'entrée\n",
        "    with open(fichier_entree, 'r', encoding=\"utf-8\") as f:\n",
        "        texte = f.read()\n",
        "\n",
        "    # Séparer le texte en segments en utilisant les timestamps\n",
        "    segments = re.split(r'(\\[\\d+\\.\\d+ - \\d+\\.\\d+\\]  )', texte)\n",
        "\n",
        "    # Extraire uniquement les textes des segments (en ignorant les timestamps)\n",
        "    timestamps = [segments[i] for i in range(1, len(segments), 2)]\n",
        "    textes = [segments[i] for i in range(2, len(segments), 2)]\n",
        "    segments = re.split(r'(\\[\\d+\\.\\d+ - \\d+\\.\\d+\\]  )', texte)\n",
        "\n",
        "    # Initialisation : le premier texte sera capitalisé\n",
        "    if len(textes) > 0:\n",
        "        textes[0] = textes[0].capitalize()\n",
        "\n",
        "    # Parcourir les autres segments\n",
        "    for i in range(1, len(textes)):\n",
        "        # Vérifier si le texte précédent se termine par un signe de ponctuation\n",
        "        if textes[i - 1].strip()[-1] in '.!?':\n",
        "            textes[i] = textes[i].capitalize()\n",
        "        else :\n",
        "            textes[i] = textes[i].lower()\n",
        "\n",
        "    # Recréer le texte final avec les timestamps au début de chaque segment\n",
        "    texte_corrige = \"\"\n",
        "    for i in range(len(textes)):\n",
        "        texte_corrige += timestamps[i] + textes[i]\n",
        "\n",
        "    # Si le fichier de sortie est None, on utilise le fichier d'entrée\n",
        "    if fichier_sortie is None:\n",
        "        fichier_sortie = fichier_entree\n",
        "\n",
        "    # Écrire le texte corrigé dans le fichier de sortie\n",
        "    with open(fichier_sortie, 'w', encoding='utf-8') as f:\n",
        "        f.write(texte_corrige)\n",
        "\n"
      ]
    },
    {
      "cell_type": "markdown",
      "metadata": {
        "id": "UaR2C0_Y3P98"
      },
      "source": [
        "##Vérifications avant montage\n"
      ]
    },
    {
      "cell_type": "markdown",
      "metadata": {
        "id": "rl3Y1SC-JEKs"
      },
      "source": [
        "###Sous fonctions"
      ]
    },
    {
      "cell_type": "markdown",
      "metadata": {
        "id": "7VVZC7Eb3Sdt"
      },
      "source": [
        "####Afficher audio"
      ]
    },
    {
      "cell_type": "code",
      "execution_count": null,
      "metadata": {
        "id": "HkNiOuJw3pXL"
      },
      "outputs": [],
      "source": [
        "def afficher_audio(nom_fichier_mp3):\n",
        "  display(Audio(nom_fichier_mp3, autoplay=False))\n",
        "\n",
        "\n",
        "\n",
        "# afficher_audio(temp_audio_path)"
      ]
    },
    {
      "cell_type": "markdown",
      "metadata": {
        "id": "XtB4fDWD3SuX"
      },
      "source": [
        "####Fenêtre pour modifier texte"
      ]
    },
    {
      "cell_type": "code",
      "execution_count": null,
      "metadata": {
        "id": "Hp57nCF73poP"
      },
      "outputs": [],
      "source": [
        "# Fonction pour ouvrir et modifier un fichier existant\n",
        "def modifier_fichier(nom_fichier):\n",
        "    # Lire le contenu du fichier existant\n",
        "    try:\n",
        "        with open(nom_fichier, 'r') as f:\n",
        "            contenu = f.read()\n",
        "    except FileNotFoundError:\n",
        "        print(f\"Le fichier {nom_fichier} n'existe pas.\")\n",
        "        return\n",
        "\n",
        "    # Créer une zone de texte pour modifier le contenu\n",
        "    text_area = widgets.Textarea(\n",
        "        value=contenu,\n",
        "        placeholder='Modifier le contenu ici...',\n",
        "        description=f'{nom_fichier}:',\n",
        "        disabled=False,\n",
        "        layout=widgets.Layout(width='100%', height='300px')\n",
        "    )\n",
        "\n",
        "    # Créer un bouton pour sauvegarder les modifications\n",
        "    save_button = widgets.Button(description=\"Sauvegarder les modifications\")\n",
        "\n",
        "    # Fonction de sauvegarde\n",
        "    def save_changes(b):\n",
        "        modified_content = text_area.value\n",
        "        with open(nom_fichier, 'w') as f:\n",
        "            f.write(modified_content)\n",
        "        print(f\"Le fichier {nom_fichier} a été sauvegardé avec les modifications.\")\n",
        "\n",
        "    save_button.on_click(save_changes)\n",
        "\n",
        "    # Afficher la zone de texte et le bouton\n",
        "    display(text_area, save_button)\n",
        "\n",
        "# # Exemple d'utilisation avec un fichier existant\n",
        "# modifier_fichier(subtitles_path_fr)\n"
      ]
    },
    {
      "cell_type": "markdown",
      "metadata": {
        "id": "hp08QSUI3S-4"
      },
      "source": [
        "###Modifier textes avec vocal et titre de la vidéo"
      ]
    },
    {
      "cell_type": "code",
      "execution_count": null,
      "metadata": {
        "id": "Cr39e_WL3qAX"
      },
      "outputs": [],
      "source": [
        "import os\n",
        "import shutil  # Pour la suppression de dossiers\n",
        "import ipywidgets as widgets\n",
        "from IPython.display import display\n",
        "from ipywidgets import Audio\n",
        "\n",
        "def interface_modifier_fichier_et_jouer_mp3(nom_fichier_texte, nom_fichier_mp3, titre_modifiable=\"\", chemin_texte_transcris=\"\"):\n",
        "    \"\"\"\n",
        "    Interface pour modifier un fichier texte, afficher un texte non modifiable, et jouer un fichier MP3.\n",
        "    :param nom_fichier_texte: Chemin du fichier texte à modifier.\n",
        "    :param nom_fichier_mp3: Chemin du fichier MP3 à jouer.\n",
        "    :param titre_modifiable: Le titre modifiable qui sera affiché et mis à jour.\n",
        "    :param chemin_texte_transcris: Chemin du fichier dont le contenu sera affiché en lecture seule.\n",
        "    \"\"\"\n",
        "\n",
        "    # Lire le contenu du fichier texte existant\n",
        "    try:\n",
        "        with open(nom_fichier_texte, 'r') as f:\n",
        "            contenu = f.read()\n",
        "    except FileNotFoundError:\n",
        "        print(f\"Le fichier {nom_fichier_texte} n'existe pas.\")\n",
        "        return\n",
        "\n",
        "    # Lire le contenu du fichier texte_transcris (non modifiable)\n",
        "    try:\n",
        "        with open(chemin_texte_transcris, 'r') as f:\n",
        "            contenu_transcris = f.read()\n",
        "    except FileNotFoundError:\n",
        "        contenu_transcris = \"Le fichier texte transcrit est introuvable.\"\n",
        "\n",
        "    # Créer une zone de texte pour modifier le contenu\n",
        "    text_area = widgets.Textarea(\n",
        "        value=contenu,\n",
        "        placeholder='Modifier le contenu ici...',\n",
        "        description='Sous-titres:',\n",
        "        disabled=False,\n",
        "        layout=widgets.Layout(width='100%', height='300px')\n",
        "    )\n",
        "\n",
        "    # Créer un champ pour modifier le titre (avec le titre passé en paramètre)\n",
        "    title_input = widgets.Text(\n",
        "        value=titre_modifiable,\n",
        "        placeholder=\"Titre modifiable ici...\",\n",
        "        description=\"Titre:\",\n",
        "        disabled=False,\n",
        "        layout=widgets.Layout(width='100%')\n",
        "    )\n",
        "\n",
        "    # Créer une zone de texte non modifiable pour afficher texte_transcris\n",
        "    text_transcris_widget = widgets.Textarea(\n",
        "        value=contenu_transcris,\n",
        "        placeholder=\"Contenu affiché ici...\",\n",
        "        description=\"Texte transcrit:\",\n",
        "        disabled=True,\n",
        "        layout=widgets.Layout(width='100%', height='200px')\n",
        "    )\n",
        "\n",
        "    # Variable pour enregistrer le titre modifié\n",
        "    modified_title = \"\"\n",
        "\n",
        "    # Créer un bouton pour sauvegarder les modifications (style rouge, taille réduite)\n",
        "    save_button = widgets.Button(\n",
        "        description=\"Sauvegarder\",\n",
        "        button_style=\"success\",  # Style vert pour le bouton\n",
        "        layout=widgets.Layout(width=\"30%\")  # Réduction de la taille du bouton\n",
        "    )\n",
        "\n",
        "    # Créer un bouton pour ignorer ce dossier\n",
        "    ignore_button = widgets.Button(\n",
        "        description=\"Ignorer ce dossier\",\n",
        "        button_style=\"warning\",  # Style orange pour le bouton\n",
        "        layout=widgets.Layout(width=\"30%\")\n",
        "    )\n",
        "\n",
        "    # Créer un bouton pour effacer ce dossier\n",
        "    delete_button = widgets.Button(\n",
        "        description=\"Effacer ce dossier\",\n",
        "        button_style=\"danger\",  # Style rouge pour le bouton\n",
        "        layout=widgets.Layout(width=\"30%\")\n",
        "    )\n",
        "\n",
        "    # Fonction de sauvegarde\n",
        "    def save_changes(b):\n",
        "        nonlocal modified_title\n",
        "        modified_content = text_area.value\n",
        "        modified_title = title_input.value  # Enregistrer le titre modifié\n",
        "        with open(nom_fichier_texte, 'w') as f:\n",
        "            f.write(modified_content)\n",
        "        print(f\"Le fichier {nom_fichier_texte} a été sauvegardé avec les modifications.\")\n",
        "\n",
        "        # Créer le fichier avec le titre modifié comme nom de fichier, mais vide\n",
        "        directory = os.path.dirname(nom_fichier_texte)  # Récupérer le répertoire du fichier\n",
        "\n",
        "        # Créer le fichier vierge avec l'extension _titre.txt\n",
        "        titre_fichier = f\"{modified_title}_titre.txt\"\n",
        "        titre_nom_fichier = os.path.join(directory, titre_fichier)\n",
        "\n",
        "        # Créer un fichier vierge\n",
        "        with open(titre_nom_fichier, 'w') as f:\n",
        "            pass  # Laisser le fichier vide\n",
        "\n",
        "        # Créer un fichier de révision avec le contenu modifié, et l'extension _revise.txt\n",
        "        revise_fichier = f\"{modified_title}_revise.txt\"\n",
        "        revise_nom_fichier = os.path.join(directory, revise_fichier)\n",
        "\n",
        "        # Sauvegarder le contenu modifié dans le fichier _revise.txt\n",
        "        with open(revise_nom_fichier, 'w') as f:\n",
        "            f.write(modified_content)\n",
        "\n",
        "        # Afficher les fichiers créés\n",
        "        print(f\"Fichier créé : {titre_nom_fichier}\")\n",
        "        print(f\"Fichier révisé sauvegardé : {revise_nom_fichier}\")\n",
        "\n",
        "        # Cacher les widgets liés à cette interface après la sauvegarde\n",
        "        interface_container.layout.display = 'none'\n",
        "        audio_container.layout.display = 'none'\n",
        "\n",
        "    # Fonction pour ignorer ce dossier\n",
        "    def ignore_folder(b):\n",
        "        print(\"Dossier ignoré.\")\n",
        "        interface_container.layout.display = 'none'\n",
        "        audio_container.layout.display = 'none'\n",
        "\n",
        "    # Fonction pour effacer ce dossier\n",
        "    def delete_folder(b):\n",
        "        directory = os.path.dirname(nom_fichier_texte)\n",
        "        if os.path.exists(directory):\n",
        "            shutil.rmtree(directory)  # Supprimer le dossier et son contenu\n",
        "            print(f\"Dossier {directory} effacé.\")\n",
        "        else:\n",
        "            print(f\"Le dossier {directory} n'existe pas.\")\n",
        "        interface_container.layout.display = 'none'\n",
        "        audio_container.layout.display = 'none'\n",
        "\n",
        "    # Associer les fonctions aux boutons\n",
        "    save_button.on_click(save_changes)\n",
        "    ignore_button.on_click(ignore_folder)\n",
        "    delete_button.on_click(delete_folder)\n",
        "\n",
        "    # Lire le fichier MP3 et le passer à l'argument `value`\n",
        "    with open(nom_fichier_mp3, 'rb') as f:\n",
        "        audio_data = f.read()\n",
        "\n",
        "    # Créer le widget audio avec les données du fichier\n",
        "    audio_widget = Audio(value=audio_data, autoplay=False)\n",
        "\n",
        "    # Créer un conteneur pour le lecteur audio\n",
        "    audio_container = widgets.VBox([audio_widget])\n",
        "\n",
        "    # Créer un conteneur horizontal pour les boutons\n",
        "    button_container = widgets.HBox([save_button, ignore_button, delete_button])\n",
        "\n",
        "    # Créer un conteneur pour l'interface principale\n",
        "    interface_container = widgets.VBox([\n",
        "        audio_container,          # Placer le lecteur audio en premier\n",
        "        title_input,              # Champ modifiable pour le titre\n",
        "        text_area,                # Zone modifiable pour le contenu\n",
        "        button_container,         # Conteneur horizontal pour les boutons\n",
        "        text_transcris_widget     # Texte non modifiable (affiché en dessous)\n",
        "    ])\n",
        "\n",
        "    # Afficher l'interface complète\n",
        "    display(interface_container)"
      ]
    },
    {
      "cell_type": "markdown",
      "metadata": {
        "id": "apu4_EPbLF_D"
      },
      "source": [
        "##Montage"
      ]
    },
    {
      "cell_type": "markdown",
      "metadata": {
        "id": "9cpsJgt_XjuC"
      },
      "source": [
        "###Ajout de sous-titres"
      ]
    },
    {
      "cell_type": "markdown",
      "metadata": {
        "id": "4UG4K2lKJTKq"
      },
      "source": [
        "####Ajout de sous-titres avec timecode"
      ]
    },
    {
      "cell_type": "code",
      "execution_count": null,
      "metadata": {
        "id": "IaeJalLRXqAS"
      },
      "outputs": [],
      "source": [
        "from PIL import ImageFont, ImageDraw, Image\n",
        "import cv2\n",
        "import os\n",
        "import numpy as np\n",
        "from bidi.algorithm import get_display\n",
        "\n",
        "\n",
        "# Fonction pour ajouter du texte à la vidéo avec OpenCV et Pillow\n",
        "# Fonction pour ajouter du texte à la vidéo avec OpenCV et Pillow\n",
        "def ajouter_texte_video_opencv(video_path, texte_path, font_path = police_path, output_path=None):\n",
        "    if output_path is None:\n",
        "      file_name, file_extension = os.path.splitext(video_path)\n",
        "      output_path = f\"{file_name}_texte{file_extension}\"\n",
        "\n",
        "    cap = cv2.VideoCapture(video_path)\n",
        "\n",
        "    if not cap.isOpened():\n",
        "        print(\"Erreur lors de l'ouverture de la vidéo.\")\n",
        "        return\n",
        "\n",
        "    fps = int(cap.get(cv2.CAP_PROP_FPS))\n",
        "    frame_width = int(cap.get(cv2.CAP_PROP_FRAME_WIDTH))\n",
        "    frame_height = int(cap.get(cv2.CAP_PROP_FRAME_HEIGHT))\n",
        "\n",
        "    out = cv2.VideoWriter(output_path, cv2.VideoWriter_fourcc(*'mp4v'), fps, (frame_width, frame_height))\n",
        "\n",
        "    try:\n",
        "        font_size = int(frame_height / 35)\n",
        "        font = ImageFont.truetype(font_path, size=font_size)\n",
        "    except IOError:\n",
        "        print(\"Erreur : Impossible de charger la police. Vérifiez le chemin.\")\n",
        "        return\n",
        "\n",
        "    with open(texte_path, 'r', encoding='utf-8') as f:\n",
        "        lignes = f.readlines()\n",
        "\n",
        "    annotations = []\n",
        "    for ligne in lignes:\n",
        "        if ligne.strip() == \"\":\n",
        "            continue\n",
        "        parts = ligne.split(']')\n",
        "        timecode_str, texte = parts[0][1:], parts[1].strip()\n",
        "        start_time, end_time = map(float, timecode_str.split(' - '))\n",
        "        annotations.append((start_time, end_time, texte))\n",
        "\n",
        "    def couper_texte(texte, font, max_width):\n",
        "        words = texte.split()\n",
        "        lines = []\n",
        "        current_line = \"\"\n",
        "\n",
        "        for word in words:\n",
        "            test_line = current_line + (\" \" if current_line else \"\") + word\n",
        "            bbox = font.getbbox(test_line)\n",
        "            width, _ = bbox[2], bbox[3]\n",
        "            if width <= max_width:\n",
        "                current_line = test_line\n",
        "            else:\n",
        "                if current_line:\n",
        "                    lines.append(current_line)\n",
        "                current_line = word\n",
        "        if current_line:\n",
        "            lines.append(current_line)\n",
        "        return lines\n",
        "\n",
        "    # Fonction pour appliquer BiDi correctement\n",
        "    def apply_bidi_correctly(texte):\n",
        "        segments = []\n",
        "        current_segment = \"\"\n",
        "        current_script = None\n",
        "\n",
        "        for char in texte:\n",
        "            if \"\\u0600\" <= char <= \"\\u06FF\" or \"\\u0750\" <= char <= \"\\u077F\" or \"\\u08A0\" <= char <= \"\\u08FF\":\n",
        "                script = \"arabic\"\n",
        "            else:\n",
        "                script = \"latin\"\n",
        "\n",
        "            if script != current_script:\n",
        "                if current_segment:\n",
        "                    segments.append((current_script, current_segment))\n",
        "                current_segment = char\n",
        "                current_script = script\n",
        "            else:\n",
        "                current_segment += char\n",
        "\n",
        "        if current_segment:\n",
        "            segments.append((current_script, current_segment))\n",
        "\n",
        "        processed_segments = []\n",
        "        for script, segment in segments:\n",
        "            if script == \"arabic\":\n",
        "                processed_segments.append(get_display(segment[::-1]))  # Corriger l'ordre arabe\n",
        "            else:\n",
        "                processed_segments.append(segment)\n",
        "\n",
        "        return \"\".join(processed_segments)\n",
        "\n",
        "    frame_idx = 0\n",
        "    while True:\n",
        "        ret, frame = cap.read()\n",
        "        if not ret:\n",
        "            break\n",
        "\n",
        "        current_time = frame_idx / fps\n",
        "\n",
        "        for start_time, end_time, texte in annotations:\n",
        "            if start_time <= current_time <= end_time:\n",
        "                pil_image = Image.fromarray(cv2.cvtColor(frame, cv2.COLOR_BGR2RGB))\n",
        "                draw = ImageDraw.Draw(pil_image)\n",
        "\n",
        "                texte_bidi = apply_bidi_correctly(texte)\n",
        "\n",
        "                max_width = frame_width - 180\n",
        "                lines = couper_texte(texte_bidi, font, max_width)\n",
        "\n",
        "                total_height = sum([font.getbbox(line)[3] - font.getbbox(line)[1] for line in lines if line.strip()]) + (len(lines) - 1) * 25\n",
        "                y_position = frame_height - int(frame_height * 0.25) - total_height\n",
        "\n",
        "                words = texte.split()\n",
        "                num_words = len(words)\n",
        "\n",
        "                # Calculer la durée par mot\n",
        "                duration_per_word = (end_time - start_time) / num_words\n",
        "                current_word_start_time = start_time\n",
        "\n",
        "                for line in lines:\n",
        "                    if line.strip() == \"\":\n",
        "                        continue\n",
        "\n",
        "                    text_width, text_height = font.getbbox(line)[2], font.getbbox(line)[3] - font.getbbox(line)[1]\n",
        "                    background_position = ((frame_width - text_width) // 2 - 10, y_position - 10)\n",
        "                    background_size = (text_width + 20, text_height + 40)\n",
        "                    draw.rectangle([background_position, (background_position[0] + background_size[0], background_position[1] + background_size[1])], fill=(0, 0, 0, 128))\n",
        "\n",
        "                    # Découper la ligne en mots et appliquer l'effet rouge uniquement pendant le temps du mot\n",
        "                    x_position = (frame_width - text_width) // 2\n",
        "                    words_in_line = line.split()\n",
        "\n",
        "                    for word in words_in_line:\n",
        "                        word_width, word_height = font.getbbox(word)[2], font.getbbox(word)[3] - font.getbbox(word)[1]\n",
        "\n",
        "                        # Vérifier si le mot doit être affiché en rouge\n",
        "                        if current_word_start_time <= current_time <= current_word_start_time + duration_per_word:\n",
        "                            word_color = (255, 215, 0)  # Doré\n",
        "                        else:\n",
        "                            word_color = (255, 255, 255)  # Blanc\n",
        "\n",
        "                        # Dessiner chaque mot avec la couleur appropriée\n",
        "                        draw.text((x_position, y_position), word, font=font, fill=word_color)\n",
        "                        x_position += word_width + 10  # Décalage pour le mot suivant\n",
        "\n",
        "                        # Passer à l'intervalle suivant pour le mot\n",
        "                        current_word_start_time += duration_per_word\n",
        "\n",
        "                    y_position += text_height + 25\n",
        "\n",
        "                frame = cv2.cvtColor(np.array(pil_image), cv2.COLOR_RGB2BGR)\n",
        "                break\n",
        "\n",
        "        out.write(frame)\n",
        "        frame_idx += 1\n",
        "\n",
        "    cap.release()\n",
        "    out.release()\n",
        "    print(f\"Vidéo exportée sous : {output_path}\")\n",
        "    return output_path\n"
      ]
    },
    {
      "cell_type": "markdown",
      "metadata": {
        "id": "hQyEwblHPeGp"
      },
      "source": [
        "###Ajout de petit logo après l'affichage du titre"
      ]
    },
    {
      "cell_type": "code",
      "execution_count": null,
      "metadata": {
        "id": "OXyvKdOIGJ5B"
      },
      "outputs": [],
      "source": [
        "import os\n",
        "import cv2\n",
        "from PIL import Image\n",
        "import numpy as np\n",
        "import subprocess\n",
        "\n",
        "def ajouter_logo_video(video_path, logo_path=logo_path, follow_path=follow_path, output_path=None, title_duration=0, message_abonnement_duration=message_abonnement_duration):\n",
        "    \"\"\"\n",
        "    Ajoute un logo centré horizontalement à la vidéo, puis le remplace par une autre image.\n",
        "\n",
        "    :param video_path: Chemin vers la vidéo à traiter\n",
        "    :param logo_path: Chemin vers l'image (logo) initiale à ajouter\n",
        "    :param follow_path: Chemin vers l'image qui remplace le logo\n",
        "    :param output_path: Chemin vers la vidéo de sortie\n",
        "    :param title_duration: Durée en secondes avant l'affichage du logo\n",
        "    :param message_abonnement_duration: Durée avant la fin pour afficher follow_path\n",
        "    :return: Le chemin vers la vidéo de sortie\n",
        "    \"\"\"\n",
        "    if not os.path.exists(video_path):\n",
        "        print(f\"Erreur : fichier vidéo introuvable ({video_path}).\")\n",
        "        return None\n",
        "\n",
        "    if not os.path.exists(logo_path):\n",
        "        print(f\"Erreur : fichier logo introuvable ({logo_path}).\")\n",
        "        return None\n",
        "\n",
        "    if not os.path.exists(follow_path):\n",
        "        print(f\"Erreur : fichier follow introuvable ({follow_path}).\")\n",
        "        return None\n",
        "\n",
        "    if output_path is None:\n",
        "        file_name, file_extension = os.path.splitext(video_path)\n",
        "        output_path = f\"{file_name}_logo{file_extension}\"\n",
        "        print(\"Output_logo_ajouté = \", output_path)\n",
        "\n",
        "    # Charger la vidéo\n",
        "    cap = cv2.VideoCapture(video_path)\n",
        "\n",
        "    if not cap.isOpened():\n",
        "        print(\"Erreur lors de l'ouverture de la vidéo.\")\n",
        "        return None\n",
        "\n",
        "    # Obtenir les propriétés de la vidéo\n",
        "    fps = int(cap.get(cv2.CAP_PROP_FPS))\n",
        "    frame_width = int(cap.get(cv2.CAP_PROP_FRAME_WIDTH))\n",
        "    frame_height = int(cap.get(cv2.CAP_PROP_FRAME_HEIGHT))\n",
        "    frame_count = int(cap.get(cv2.CAP_PROP_FRAME_COUNT))\n",
        "\n",
        "    # Créer un objet VideoWriter pour enregistrer la vidéo de sortie\n",
        "    out = cv2.VideoWriter(output_path, cv2.VideoWriter_fourcc(*'mp4v'), fps, (frame_width, frame_height))\n",
        "\n",
        "    # Charger les images du logo et de l'image de suivi\n",
        "    logo = Image.open(logo_path).convert(\"RGBA\")\n",
        "    follow_image = Image.open(follow_path).convert(\"RGBA\")\n",
        "\n",
        "    # Redimensionner les images (environ 30% de la largeur de la vidéo)\n",
        "    logo_size = int(frame_width * 0.30)  # 30% de la largeur de la vidéo\n",
        "    logo_resized = logo.resize((logo_size, int(logo.size[1] * (logo_size / logo.size[0]))), Image.Resampling.LANCZOS)\n",
        "    follow_resized = follow_image.resize(\n",
        "        (logo_size, int(follow_image.size[1] * (logo_size / follow_image.size[0]))),\n",
        "        Image.Resampling.LANCZOS\n",
        "    )\n",
        "\n",
        "    # # Appliquer une transparence au logo\n",
        "    # alpha = 0.5  # Opacité à 50 %\n",
        "    # transparent_logo = logo_resized.copy()\n",
        "    # alpha_layer = transparent_logo.getchannel('A')\n",
        "    # alpha_layer = ImageEnhance.Brightness(alpha_layer).enhance(alpha)\n",
        "    # transparent_logo.putalpha(alpha_layer)\n",
        "\n",
        "\n",
        "    # Calculer la position centrée horizontalement et à 30 pixels du haut\n",
        "# Calculer la position centrée horizontalement et à 30 pixels du bas\n",
        "    position = ((frame_width - logo_resized.width) // 2, frame_height - logo_resized.height - 50)\n",
        "\n",
        "    # Calculer les frames pour les durées spécifiques\n",
        "    logo_start_frame = int(fps * title_duration)\n",
        "    follow_start_frame = frame_count - int(fps * message_abonnement_duration)\n",
        "\n",
        "    frame_idx = 0\n",
        "\n",
        "    while True:\n",
        "        ret, frame = cap.read()\n",
        "        if not ret:\n",
        "            break\n",
        "\n",
        "        # Convertir la frame OpenCV (BGR) en image PIL (RGB)\n",
        "        pil_image = Image.fromarray(cv2.cvtColor(frame, cv2.COLOR_BGR2RGB))\n",
        "\n",
        "        # Ajouter uniquement une des deux images\n",
        "        if frame_idx >= follow_start_frame:\n",
        "            pil_image.paste(follow_resized, position, follow_resized)\n",
        "        elif frame_idx >= logo_start_frame:\n",
        "            pil_image.paste(logo_resized, position, logo_resized)\n",
        "\n",
        "        # Reconvertir en frame OpenCV\n",
        "        frame = cv2.cvtColor(np.array(pil_image), cv2.COLOR_RGB2BGR)\n",
        "\n",
        "        # Écrire la frame dans la vidéo de sortie\n",
        "        out.write(frame)\n",
        "        frame_idx += 1\n",
        "\n",
        "    # Libérer les objets\n",
        "    cap.release()\n",
        "    out.release()\n",
        "    print(f\"Vidéo avec logo et image de suivi exportée sous : {output_path}\")\n",
        "    return output_path\n",
        "\n",
        "\n",
        "# # Exemple d'utilisation\n",
        "# # Ajouter le logo à la vidéo\n",
        "# video_avec_logo = ajouter_logo_video(chemin_video, logo_path)\n",
        "\n",
        "# # Fusionner la vidéo avec l'audio\n",
        "# if verifier_fichier_audio(audio_path):\n",
        "#     fusionner_audio_video(video_avec_logo, audio_path, video_avec_logo.replace(\".mp4\", \"_final.mp4\"))\n"
      ]
    },
    {
      "cell_type": "code",
      "execution_count": null,
      "metadata": {
        "id": "KlxlgpWKJglR"
      },
      "outputs": [],
      "source": [
        "from IPython.display import HTML\n",
        "from base64 import b64encode\n",
        "\n",
        "def afficher_video_colab(video_path):\n",
        "    \"\"\"\n",
        "    Affiche une vidéo dans une cellule Colab en utilisant un widget HTML.\n",
        "\n",
        "    :param video_path: Chemin du fichier vidéo à afficher.\n",
        "    \"\"\"\n",
        "    # Encodage de la vidéo en base64 pour l'afficher dans HTML\n",
        "    with open(video_path, \"rb\") as video_file:\n",
        "        video_data = video_file.read()\n",
        "        video_base64 = b64encode(video_data).decode()\n",
        "\n",
        "    # Générer le code HTML pour afficher la vidéo\n",
        "    video_html = f\"\"\"\n",
        "    <video width=\"640\" height=\"360\" controls>\n",
        "        <source src=\"data:video/mp4;base64,{video_base64}\" type=\"video/mp4\">\n",
        "        Votre navigateur ne supporte pas l'affichage des vidéos.\n",
        "    </video>\n",
        "    \"\"\"\n",
        "    return HTML(video_html)\n",
        "\n",
        "\n",
        "# # Afficher la vidéo\n",
        "# # Exemple d'utilisation\n",
        "# # Remplacez ce chemin par le chemin réel de votre vidéo\n",
        "\n",
        "# afficher_video_colab(video_path)\n"
      ]
    },
    {
      "cell_type": "markdown",
      "metadata": {
        "id": "KOhxeiU-JvWA"
      },
      "source": [
        "###Remettre l'audio dans la vidéo"
      ]
    },
    {
      "cell_type": "code",
      "execution_count": null,
      "metadata": {
        "id": "OWDJpXtvJqhp"
      },
      "outputs": [],
      "source": [
        "# Fonction pour fusionner la vidéo avec l'audio et convertir la vidéo en H264\n",
        "def fusionner_audio_video(video_path, audio_path, output_path):\n",
        "    # Commande ffmpeg pour fusionner la vidéo et l'audio avec conversion en H264\n",
        "    command = [\n",
        "        'ffmpeg', '-y', '-i', video_path, '-i', audio_path,\n",
        "        '-c:v', 'libx264', '-c:a', 'aac', '-strict', 'experimental', output_path\n",
        "    ]\n",
        "\n",
        "    # Exécution de la commande ffmpeg avec gestion des erreurs\n",
        "    try:\n",
        "        print(f\"Running command: {' '.join(command)}\")\n",
        "        subprocess.run(command, check=True, stderr=subprocess.PIPE, stdout=subprocess.PIPE)\n",
        "        print(f\"Vidéo avec audio exportée sous : {output_path}\")\n",
        "    except subprocess.CalledProcessError as e:\n",
        "        print(f\"Erreur lors de la fusion de l'audio et de la vidéo : {e}\")\n",
        "        print(f\"stderr: {e.stderr.decode()}\")\n",
        "        print(f\"stdout: {e.stdout.decode()}\")\n",
        "\n",
        "# Vérifier si le fichier audio existe\n",
        "def verifier_fichier_audio(audio_path):\n",
        "    if os.path.exists(audio_path):\n",
        "        print(\"Le fichier audio existe.\")\n",
        "    else:\n",
        "        print(\"Le fichier audio n'existe pas.\")\n",
        "        return False\n",
        "    return True\n"
      ]
    },
    {
      "cell_type": "code",
      "execution_count": null,
      "metadata": {
        "id": "YTJ4y7PPfXDt"
      },
      "outputs": [],
      "source": [
        "import cv2\n",
        "import numpy as np\n",
        "import os\n",
        "\n",
        "def ajouter_rectangle_noir_video(video_path, police, output_path=None):\n",
        "    \"\"\"\n",
        "    Ajoute un rectangle noir semi-transparent sur la moitié inférieure de la vidéo,\n",
        "    avec un dégradé progressif sur les 5% supérieurs.\n",
        "\n",
        "    :param video_path: Chemin vers la vidéo à traiter.\n",
        "    :param police: Chemin vers la police à utiliser (même si le texte ne change pas de position).\n",
        "    :param output_path: Chemin vers la vidéo de sortie.\n",
        "    :return: Le chemin vers la vidéo de sortie.\n",
        "    \"\"\"\n",
        "    if output_path is None:\n",
        "        file_name, file_extension = os.path.splitext(video_path)\n",
        "        output_path = f\"{file_name}_rectangle{file_extension}\"\n",
        "\n",
        "    cap = cv2.VideoCapture(video_path)\n",
        "    if not cap.isOpened():\n",
        "        print(\"Erreur lors de l'ouverture de la vidéo.\")\n",
        "        return\n",
        "\n",
        "    # Obtenir les propriétés de la vidéo\n",
        "    fps = int(cap.get(cv2.CAP_PROP_FPS))\n",
        "    frame_width = int(cap.get(cv2.CAP_PROP_FRAME_WIDTH))\n",
        "    frame_height = int(cap.get(cv2.CAP_PROP_FRAME_HEIGHT))\n",
        "\n",
        "    # Définir la hauteur du rectangle (tiers inférieur de la vidéo)\n",
        "    rect_height = frame_height // 3\n",
        "    gradient_height = int(rect_height * 0.05)  # 5% de la hauteur du rectangle pour le dégradé\n",
        "\n",
        "    # Création du rectangle noir avec dégradé\n",
        "    rect = np.zeros((rect_height, frame_width, 3), dtype=np.uint8)\n",
        "\n",
        "    # Ajouter le dégradé sur les 5% supérieurs du rectangle\n",
        "    for y in range(gradient_height):\n",
        "        alpha = 1 - (y / gradient_height)  # Dégradé vers le noir\n",
        "        rect[y, :, :] = (alpha * 255, alpha * 255, alpha * 255)  # Dégradé vers le noir\n",
        "\n",
        "    # Remplir la partie inférieure du rectangle avec du noir pur (après le dégradé)\n",
        "    rect[gradient_height:, :, :] = (0, 0, 0)  # Partie noire pure\n",
        "\n",
        "    # Créer l'objet VideoWriter pour écrire la vidéo de sortie\n",
        "    out = cv2.VideoWriter(output_path, cv2.VideoWriter_fourcc(*'mp4v'), fps, (frame_width, frame_height))\n",
        "\n",
        "    frame_idx = 0\n",
        "\n",
        "    while True:\n",
        "        ret, frame = cap.read()\n",
        "        if not ret:\n",
        "            break\n",
        "\n",
        "        # Ajouter le rectangle noir avec dégradé sur la moitié inférieure de chaque frame\n",
        "        frame[frame_height - rect_height:, :] = rect  # Ajouter directement le rectangle sur la vidéo\n",
        "\n",
        "        out.write(frame)\n",
        "        frame_idx += 1\n",
        "\n",
        "    cap.release()\n",
        "    out.release()\n",
        "    print(f\"Vidéo avec rectangle noir et dégradé exportée sous : {output_path}\")\n",
        "    return output_path\n"
      ]
    },
    {
      "cell_type": "markdown",
      "metadata": {
        "id": "vxlso-TEJyVP"
      },
      "source": [
        "###Ajout du titre avant l'apparition du logo"
      ]
    },
    {
      "cell_type": "code",
      "execution_count": null,
      "metadata": {
        "id": "1zXN_dxr-_4J"
      },
      "outputs": [],
      "source": [
        "import os\n",
        "import cv2\n",
        "from PIL import Image, ImageDraw, ImageFont\n",
        "import numpy as np\n",
        "\n",
        "def ajouter_titre_debut_video(video_path, titre, police = police_path, output_path=None, title_duration=title_duration):\n",
        "    \"\"\"\n",
        "    Ajoute un titre de 3 secondes au début de la vidéo, centré sur un bandeau rouge autour du texte,\n",
        "    avec le texte en blanc, directement sur la vidéo originale. Le texte va automatiquement à la ligne si nécessaire.\n",
        "\n",
        "    :param video_path: Chemin vers la vidéo à traiter.\n",
        "    :param titre: Le titre à afficher pendant 3 secondes.\n",
        "    :param police: Chemin vers la police à utiliser pour le texte.\n",
        "    :param output_path: Chemin vers la vidéo de sortie.\n",
        "    :param title_duration: Durée du titre en secondes.\n",
        "    :return: Le chemin vers la vidéo de sortie.\n",
        "    \"\"\"\n",
        "    # Si aucun chemin de sortie n'est spécifié, générer un nom de fichier avec _titre_ajoute\n",
        "    if output_path is None:\n",
        "        file_name, file_extension = os.path.splitext(video_path)\n",
        "        output_path = f\"{file_name}_titre{file_extension}\"\n",
        "\n",
        "    # Charger la vidéo\n",
        "    cap = cv2.VideoCapture(video_path)\n",
        "\n",
        "    # Vérifier si la vidéo a été correctement ouverte\n",
        "    if not cap.isOpened():\n",
        "        print(\"Erreur lors de l'ouverture de la vidéo.\")\n",
        "        return\n",
        "\n",
        "    # Obtenir les propriétés de la vidéo\n",
        "    fps = int(cap.get(cv2.CAP_PROP_FPS))\n",
        "    frame_width = int(cap.get(cv2.CAP_PROP_FRAME_WIDTH))\n",
        "    frame_height = int(cap.get(cv2.CAP_PROP_FRAME_HEIGHT))\n",
        "\n",
        "    # Créer un objet VideoWriter pour enregistrer la vidéo de sortie\n",
        "    out = cv2.VideoWriter(output_path, cv2.VideoWriter_fourcc(*'mp4v'), fps, (frame_width, frame_height))\n",
        "\n",
        "    # Paramètres du texte et du bandeau\n",
        "    title_frame_count = int(fps * title_duration)  # Nombre de frames pour le titre\n",
        "\n",
        "    # Charger la police avec une taille fixe\n",
        "    font_size = 40\n",
        "    try:\n",
        "        font = ImageFont.truetype(police, font_size)\n",
        "    except IOError:\n",
        "        print(\"La police spécifiée n'a pas été trouvée, utilisation de la police par défaut.\")\n",
        "        font = ImageFont.load_default()\n",
        "\n",
        "    # Diviser le texte en lignes pour qu'il tienne dans la largeur de la vidéo\n",
        "    def diviser_en_lignes(titre, largeur_max):\n",
        "        words = titre.split(' ')\n",
        "        lignes = []\n",
        "        ligne_actuelle = \"\"\n",
        "\n",
        "        for mot in words:\n",
        "            test_ligne = ligne_actuelle + \" \" + mot if ligne_actuelle else mot\n",
        "            text_width = font.getbbox(test_ligne)[2]  # Utilisation de getbbox pour obtenir la largeur\n",
        "            if text_width <= largeur_max:\n",
        "                ligne_actuelle = test_ligne\n",
        "            else:\n",
        "                lignes.append(ligne_actuelle)\n",
        "                ligne_actuelle = mot\n",
        "\n",
        "        if ligne_actuelle:\n",
        "            lignes.append(ligne_actuelle)\n",
        "\n",
        "        return lignes\n",
        "\n",
        "    max_text_width = int(frame_width * 0.8)  # Texte limité à 80% de la largeur de la vidéo\n",
        "    lignes = diviser_en_lignes(titre, max_text_width)\n",
        "\n",
        "    # Calculer la hauteur totale des lignes de texte\n",
        "    text_height_total = sum(font.getbbox(ligne)[3] - font.getbbox(ligne)[1] for ligne in lignes) + 20 * (len(lignes) - 1)\n",
        "\n",
        "    # Paramètres du bandeau\n",
        "    bandeau_padding = 20\n",
        "    bandeau_padding_top = 10  # Espacement au-dessus du texte dans le bandeau\n",
        "    bandeau_padding_bottom = 20  # Espacement en bas\n",
        "\n",
        "    # Calculer la taille et la position du bandeau\n",
        "    bandeau_width = max_text_width + 2 * bandeau_padding\n",
        "    bandeau_height = text_height_total + bandeau_padding_top + bandeau_padding_bottom\n",
        "    bandeau_x = (frame_width - bandeau_width) // 2\n",
        "    bandeau_y = int(frame_height * 0.3)\n",
        "\n",
        "    # Créer le bandeau (fond rouge)\n",
        "    bandeau = Image.new(\"RGB\", (bandeau_width, bandeau_height), color=(255, 0, 0))  # Fond rouge\n",
        "    draw_bandeau = ImageDraw.Draw(bandeau)\n",
        "\n",
        "    # Dessiner chaque ligne de texte sur le bandeau\n",
        "    y_offset = bandeau_padding_top\n",
        "    for ligne in lignes:\n",
        "        text_bbox = font.getbbox(ligne)\n",
        "        text_width = text_bbox[2] - text_bbox[0]\n",
        "        x_position = (bandeau_width - text_width) // 2\n",
        "        draw_bandeau.text((x_position, y_offset), ligne, font=font, fill=(255, 255, 255))  # Texte blanc\n",
        "        y_offset += text_bbox[3] - text_bbox[1] + 20  # Ajouter un espacement entre les lignes\n",
        "\n",
        "    # Convertir le bandeau en image OpenCV\n",
        "    bandeau_frame = cv2.cvtColor(np.array(bandeau), cv2.COLOR_RGB2BGR)\n",
        "\n",
        "    # Ajouter le bandeau sur les frames originales pendant la durée du titre\n",
        "    frame_idx = 0\n",
        "    while True:\n",
        "        ret, frame = cap.read()\n",
        "        if not ret:\n",
        "            break\n",
        "\n",
        "        if frame_idx < title_frame_count:\n",
        "            # Placer le bandeau sur la frame originale\n",
        "            frame[bandeau_y:bandeau_y + bandeau_height, bandeau_x:bandeau_x + bandeau_width] = bandeau_frame\n",
        "\n",
        "        out.write(frame)\n",
        "        frame_idx += 1\n",
        "\n",
        "    # Libérer les objets\n",
        "    cap.release()\n",
        "    out.release()\n",
        "    print(f\"Vidéo avec titre ajoutée exportée sous : {output_path}\")\n",
        "    return output_path\n",
        "\n",
        "\n",
        "\n"
      ]
    },
    {
      "cell_type": "markdown",
      "metadata": {
        "id": "dv3dVD3Ukg0g"
      },
      "source": [
        "#Execution concrète de code"
      ]
    },
    {
      "cell_type": "markdown",
      "metadata": {
        "id": "vbOIZPMIklqV"
      },
      "source": [
        "##Sous-Sections"
      ]
    },
    {
      "cell_type": "markdown",
      "metadata": {
        "id": "C7E__h3yL10K"
      },
      "source": [
        "###Pretraitement"
      ]
    },
    {
      "cell_type": "markdown",
      "metadata": {
        "id": "MbIs9DmSLGH3"
      },
      "source": [
        "####Générations de sous-dossier"
      ]
    },
    {
      "cell_type": "code",
      "source": [
        "liste_videos = lister_elements_videos_dossier(chemin_dossier_0)\n",
        "for video in liste_videos:\n",
        "    print(video)\n",
        "    generer_dossier_et_deplacer_video_dedans(video)\n",
        "liste_dossiers_videos=lister_sous_dossiers_avec_videos(chemin_dossier_0)\n",
        "for dossier in liste_dossiers_videos :\n",
        "    deplacer_dossier(dossier, chemin_dossier_1)\n"
      ],
      "metadata": {
        "id": "-CHKwUQiGOmM"
      },
      "execution_count": null,
      "outputs": []
    },
    {
      "cell_type": "markdown",
      "metadata": {
        "id": "PxCwnjfFLM7Q"
      },
      "source": [
        "####Extraction de sous-titres"
      ]
    },
    {
      "cell_type": "markdown",
      "metadata": {
        "id": "wP5HL3bCjMys"
      },
      "source": [
        "#####Avec time-codes"
      ]
    },
    {
      "cell_type": "code",
      "source": [
        "# Liste des sous-dossiers contenant des vidéos\n",
        "liste_sous_dossiers = lister_sous_dossiers_avec_videos(chemin_dossier_1)\n",
        "print(len(liste_sous_dossiers))\n",
        "modele_whisper = charger_modele_textuel(chemin_modeles, modele=modele_textuel_choisi)\n",
        "\n",
        "# Liste pour stocker les chemins des fichiers audio extraits\n",
        "liste_audios = []\n",
        "\n",
        "\n",
        "chemins_videos = lister_videos_dans_sous_dossiers_uniquement(chemin_dossier_1)  # Renvoie une liste des chemins de vidéos\n",
        "print(len(chemins_videos))\n",
        "\n",
        "# Extraire l'audio de chaque vidéo\n",
        "for chemin_video in chemins_videos:\n",
        "    # Déterminer le chemin de l'audio à extraire (par exemple, changer l'extension .mp4 en .mp3)\n",
        "    chemin_audio = chemin_video.replace(\".mp4\", \".mp3\")  # Remplacez \".mp4\" par l'extension de votre vidéo si nécessaire\n",
        "\n",
        "    # Vérifier si le fichier audio existe déjà avant d'extraire\n",
        "    if os.path.exists(chemin_audio):\n",
        "        # print(f\"L'audio {chemin_audio} existe déjà. Il ne sera pas extrait.\")\n",
        "        liste_audios.append(chemin_audio)  # Ajouter l'audio existant à la liste sans l'extraire\n",
        "    else:\n",
        "        # Extraire l'audio de la vidéo si le fichier audio n'existe pas\n",
        "        time1 = time.time()\n",
        "        audio = extraire_audio_de_video(chemin_video)\n",
        "        time2 = time.time()\n",
        "        time_fin = time2 - time1\n",
        "        if audio:  # Vérifier si l'extraction a réussi\n",
        "            liste_audios.append(audio)\n",
        "            print(f\"L'audio {chemin_audio} A été créé.\")\n",
        "            print(\"Temps transcription = \", time_fin)\n",
        "        else:\n",
        "            print(f\"Échec de l'extraction audio pour : {chemin_video}\")\n",
        "\n",
        "# Appliquer la transcription sur chaque fichier audio extrait\n",
        "if liste_audios:\n",
        "    transcriptions = []  # Liste pour stocker les transcriptions\n",
        "    debut = time.time()  # Chronométrer le temps global\n",
        "\n",
        "    # Transcrire chaque fichier audio\n",
        "    for audio in liste_audios:\n",
        "        transcription = transcrire_audio_vers_texte_avec_code_temps(audio, modele_whisper)\n",
        "        transcriptions.append(transcription)\n",
        "\n",
        "    fin = time.time()  # Temps total pour la transcription\n",
        "    print(f\"Temps pour la transcription de {len(liste_audios)} fichiers audio : {fin - debut:.2f} secondes\")\n",
        "\n",
        "    # Afficher les résultats\n",
        "    for audio, transcription in zip(liste_audios, transcriptions):\n",
        "        if isinstance(transcription, str):\n",
        "            print(f\"Transcription réussie pour {audio}\")\n",
        "        else:\n",
        "            print(f\"Transcription échouée pour {audio}\")\n",
        "else:\n",
        "    print(\"Aucun fichier audio n'a été extrait pour transcription.\")\n",
        "\n"
      ],
      "metadata": {
        "id": "gUqg3uqmGMMD"
      },
      "execution_count": null,
      "outputs": []
    },
    {
      "cell_type": "code",
      "execution_count": null,
      "metadata": {
        "id": "mBn5AVCQf5UP"
      },
      "outputs": [],
      "source": [
        "liste_dossiers_videos=lister_sous_dossiers_avec_videos(chemin_dossier_1)\n",
        "for dossier in liste_dossiers_videos :\n",
        "    if recuperer_fichiers_par_suffixe(dossier, extension_transcription_avec_timecode) != []:\n",
        "        print(dossier)\n",
        "        deplacer_dossier(dossier, chemin_dossier_2)"
      ]
    },
    {
      "cell_type": "markdown",
      "metadata": {
        "id": "gYJvf2spjRby"
      },
      "source": [
        "#####Sans timecodes"
      ]
    },
    {
      "cell_type": "code",
      "execution_count": null,
      "metadata": {
        "id": "7FYQvc0rjUyV"
      },
      "outputs": [],
      "source": [
        "# liste_sous_dossiers =lister_sous_dossiers_avec_videos(chemin_dossier_1)\n",
        "# modele_whisper = charger_modele_textuel(chemin_modeles)\n",
        "# # Initialiser une liste pour stocker les chemins des fichiers audio extraits\n",
        "# liste_audios = []\n",
        "\n",
        "# # Parcourir les sous-dossiers contenant des vidéos\n",
        "# for dossier in liste_sous_dossiers:\n",
        "#     # Lister toutes les vidéos dans le sous-dossier\n",
        "#     chemins_videos = lister_elements_videos_dossier(dossier)  # Renvoie une liste des chemins de vidéos\n",
        "#     for chemin_video in chemins_videos:\n",
        "#         print(f\"Traitement de la vidéo : {chemin_video}\")\n",
        "\n",
        "#         # Extraire l'audio de la vidéo\n",
        "#         audio = extraire_audio_de_video(chemin_video)\n",
        "#         if audio:  # Vérifier si l'extraction a réussi\n",
        "#             print(f\"Audio extrait : {audio}\")\n",
        "#             liste_audios.append(audio)\n",
        "#         else:\n",
        "#             print(f\"Échec de l'extraction audio pour : {chemin_video}\")\n",
        "\n",
        "# # Appliquer la transcription sur chaque fichier audio extrait\n",
        "# if liste_audios:\n",
        "#     print(f\"Nombre total d'audios à transcrire : {len(liste_audios)}\")\n",
        "#     transcriptions = transcrire_audio_vers_texte_sans_code_temps(liste_audios, modele_whisper)\n",
        "#     for audio, transcription in zip(liste_audios, transcriptions):\n",
        "#         if transcription:\n",
        "#             print(f\"Transcription réussie pour {audio}\")\n",
        "#         else:\n",
        "#             print(f\"Transcription échouée pour {audio}\")\n",
        "# else:\n",
        "#     print(\"Aucun fichier audio n'a été extrait pour transcription.\")\n",
        "\n",
        "\n",
        "\n",
        "# # liste_dossiers_videos=lister_sous_dossiers_avec_videos(chemin_dossier_1)\n",
        "# for dossier in liste_dossiers_videos :\n",
        "#     deplacer_dossier(dossier, chemin_dossier_2)\n"
      ]
    },
    {
      "cell_type": "markdown",
      "metadata": {
        "id": "E-tMVdQvkndl"
      },
      "source": [
        "####Traduction"
      ]
    },
    {
      "cell_type": "markdown",
      "metadata": {
        "id": "uAi42i0j3_DN"
      },
      "source": [
        "#####Avec timecodes"
      ]
    },
    {
      "cell_type": "code",
      "execution_count": null,
      "metadata": {
        "id": "FuWn8XMgbzyQ"
      },
      "outputs": [],
      "source": [
        "# import time\n",
        "# import os\n",
        "\n",
        "# # Charger la liste des sous-dossiers contenant des vidéos\n",
        "# liste_sous_dossiers = lister_sous_dossiers_avec_videos(chemin_dossier_2)\n",
        "\n",
        "# # Charger le modèle et le tokenizer une seule fois\n",
        "# tokenizer, model = charger_et_enregistrer_modele_nllb(chemin_modeles)\n",
        "\n",
        "# # Traiter chaque sous-dossier\n",
        "# for sous_dossier in liste_sous_dossiers:\n",
        "#     try:\n",
        "#         # Localiser les fichiers nécessaires\n",
        "#         chemin_video = lister_elements_videos_dossier(sous_dossier)[0]\n",
        "#         audio = trouver_audio_dans_dossier(sous_dossier)\n",
        "#         sous_titre = recuperer_fichiers_par_suffixe(sous_dossier, extension_transcription_avec_timecode)[0]\n",
        "\n",
        "#         # Afficher les détails pour le suivi\n",
        "#         # Ouvrir le fichier de sous-titres\n",
        "#         with open(sous_titre, \"r\", encoding=\"utf-8\") as f:\n",
        "#             lignes = f.readlines()\n",
        "\n",
        "#         # Traduire les sous-titres\n",
        "#         lignes_traduites = []\n",
        "\n",
        "#         # Mesurer le temps de traduction\n",
        "#         debut = time.time()\n",
        "#         # lignes_traduites = traduire_sous_titres_timecode(lignes, tokenizer, model)\n",
        "#         lignes_traduites = [\"A remplir\"]\n",
        "#         fin = time.time()\n",
        "\n",
        "#         # Enregistrer les lignes traduites dans un nouveau fichier\n",
        "#         nom_fichier_sortie = sous_titre.replace(extension_transcription_avec_timecode, extension_traduit)\n",
        "#         with open(nom_fichier_sortie, \"w\", encoding=\"utf-8\") as f:\n",
        "#             f.write(\"\\n\".join(lignes_traduites))\n",
        "#         corriger_majuscule(nom_fichier_sortie)\n",
        "#         print(f\"Temps de traduction : {fin - debut:.2f} secondes\\n\")\n",
        "\n",
        "#     except IndexError as e:\n",
        "#         print(f\"Erreur : Aucun fichier valide trouvé dans le sous-dossier '{sous_dossier}'. Détails : {e}\")\n",
        "#     except Exception as e:\n",
        "#         print(f\"Erreur inattendue lors du traitement du sous-dossier '{sous_dossier}'. Détails : {e}\")\n",
        "\n"
      ]
    },
    {
      "cell_type": "markdown",
      "metadata": {
        "id": "UKBwod2D4BVz"
      },
      "source": [
        "#####Sans timecodes"
      ]
    },
    {
      "cell_type": "code",
      "execution_count": null,
      "metadata": {
        "id": "n2hrQsBN4FDE"
      },
      "outputs": [],
      "source": [
        "# #Penser à n'appeler le modèle qu'ici et l'enlever de la fonction, quitte à voir s'il faut le mettre en paramètre\n",
        "# liste_sous_dossiers =lister_sous_dossiers_avec_videos(chemin_dossier_2)\n",
        "# print(liste_sous_dossiers)\n",
        "\n",
        "# tokenizer, model =charger_et_enregistrer_modele_nllb(chemin_modeles)\n",
        "\n",
        "\n",
        "# for sous_dossier in liste_sous_dossiers :\n",
        "#     chemin_video = lister_elements_videos_dossier(sous_dossier)[0]\n",
        "#     titre_arabe = extract_title_from_path(chemin_video)\n",
        "#     audio = trouver_audio_dans_dossier(sous_dossier)\n",
        "#     sous_titre = recuperer_fichiers_par_suffixe(sous_dossier, extension_transcription_sans_timecode)[0]\n",
        "#     print(sous_titre)\n",
        "\n",
        "# liste_dossiers_videos=lister_sous_dossiers_avec_videos(chemin_dossier_2)\n",
        "# for dossier in liste_dossiers_videos :\n",
        "#     deplacer_dossier(dossier, chemin_dossier_3)\n"
      ]
    },
    {
      "cell_type": "markdown",
      "metadata": {
        "id": "tJlhE3aiit9d"
      },
      "source": [
        "#####Traduction avec API"
      ]
    },
    {
      "cell_type": "code",
      "source": [
        "import time\n",
        "import os\n",
        "\n",
        "liste_sous_dossiers = lister_sous_dossiers_avec_videos(chemin_dossier_2)\n",
        "total_sous_dossiers = len(liste_sous_dossiers)\n",
        "\n",
        "for index, sous_dossier in enumerate(liste_sous_dossiers, start=1):\n",
        "    start_time = time.time()  # Démarrer le chronomètre\n",
        "\n",
        "    try:\n",
        "        # Obtenir uniquement le nom du sous-dossier (dernière partie du chemin)\n",
        "        nom_sous_dossier = os.path.basename(sous_dossier)\n",
        "\n",
        "        sous_titre = recuperer_fichiers_par_suffixe(sous_dossier, extension_transcription_avec_timecode)[0]\n",
        "\n",
        "        # Lire le contenu du fichier\n",
        "        with open(sous_titre, \"r\", encoding=\"utf-8\") as f:\n",
        "            texte_a_traduire = f.read()\n",
        "        # print(\"Texte à traduire :\")\n",
        "        # print(texte_a_traduire)\n",
        "        # Traduire le texte\n",
        "        texte_traduit = Traduire_texte_avec_API(texte_a_traduire)\n",
        "        # print(\"Texte_traduit :\")\n",
        "        # print(texte_traduit)\n",
        "        # Enregistrer la traduction\n",
        "        nom_fichier_sortie = sous_titre.replace(extension_transcription_avec_timecode, extension_traduit)\n",
        "        with open(nom_fichier_sortie, \"w\", encoding=\"utf-8\") as f:\n",
        "            f.write(texte_traduit)\n",
        "        # corriger_majuscule(nom_fichier_sortie)\n",
        "\n",
        "        # Calculer le temps d'exécution\n",
        "        execution_time = time.time() - start_time  # Temps d'exécution en secondes\n",
        "\n",
        "        # Afficher un message avec le nombre de sous-dossiers traités et restants\n",
        "        sous_dossiers_restants = total_sous_dossiers - index\n",
        "        print(f\"Traitement du dossier '{nom_sous_dossier}' terminé. Temps d'exécution : {execution_time:.2f} secondes. \"\n",
        "              f\"Il reste {sous_dossiers_restants} sous-dossiers à traiter.\")\n",
        "\n",
        "    except Exception as e:\n",
        "        print(f\"Erreur lors de la traduction du fichier {sous_titre} : {e}\")\n"
      ],
      "metadata": {
        "id": "m5ZqiwIgHS8Y"
      },
      "execution_count": null,
      "outputs": []
    },
    {
      "cell_type": "markdown",
      "metadata": {
        "id": "6rECegHj84J3"
      },
      "source": [
        "#####Déplacements"
      ]
    },
    {
      "cell_type": "markdown",
      "metadata": {
        "id": "xJVPjTmnirj-"
      },
      "source": [
        "######Déplacement vers dossiers suivants"
      ]
    },
    {
      "cell_type": "code",
      "execution_count": null,
      "metadata": {
        "id": "NXEQ6oXYitWs"
      },
      "outputs": [],
      "source": [
        "liste_dossiers_videos=lister_sous_dossiers_avec_videos(chemin_dossier_2)\n",
        "for dossier in liste_dossiers_videos :\n",
        "    if recuperer_fichiers_par_suffixe(dossier, extension_traduit) != []:\n",
        "        print(dossier)\n",
        "        deplacer_dossier(dossier, chemin_dossier_3)"
      ]
    },
    {
      "cell_type": "markdown",
      "metadata": {
        "id": "iHlUm07n8PqY"
      },
      "source": [
        "######Vérification de la traduction"
      ]
    },
    {
      "cell_type": "code",
      "execution_count": null,
      "metadata": {
        "id": "ziLGrKaE8PC0"
      },
      "outputs": [],
      "source": [
        "import re\n",
        "\n",
        "# Liste des dossiers contenant des vidéos\n",
        "liste_dossiers_videos = lister_sous_dossiers_avec_videos(chemin_dossier_3)\n",
        "\n",
        "# Compteurs pour les statistiques\n",
        "dossiers_deplaces = 0\n",
        "dossiers_total = len(liste_dossiers_videos)\n",
        "\n",
        "for dossier in liste_dossiers_videos:\n",
        "    # Récupérer les fichiers traduits dans le dossier\n",
        "    fichiers_traduit = recuperer_fichiers_par_suffixe(dossier, extension_traduit)\n",
        "\n",
        "    if fichiers_traduit:\n",
        "        try:\n",
        "            # Lire le contenu du premier fichier traduit\n",
        "            with open(fichiers_traduit[0], \"r\", encoding=\"utf-8\") as f:\n",
        "                contenu = f.read()\n",
        "\n",
        "            # Vérifier si le contenu est vide ou contient des caractères arabes ou spéciaux\n",
        "            if contenu.strip() == \"\" or contient_caracteres_arabes_ou_speciaux(contenu):\n",
        "                print(f\"Dossier '{dossier}' sera déplacé.\")\n",
        "                deplacer_dossier(dossier, chemin_dossier_2)\n",
        "                dossiers_deplaces += 1\n",
        "\n",
        "        except Exception as e:\n",
        "            print(f\"Erreur lors de la lecture du fichier {fichiers_traduit[0]} : {e}\")\n",
        "\n",
        "# Afficher les statistiques\n",
        "if dossiers_total > 0:\n",
        "    pourcentage_deplaces = (dossiers_deplaces / dossiers_total) * 100\n",
        "    print(f\"Pourcentage de dossiers déplacés : {pourcentage_deplaces:.2f}%\")\n",
        "else:\n",
        "    print(\"Aucun dossier à traiter.\")\n"
      ]
    },
    {
      "cell_type": "markdown",
      "metadata": {
        "id": "8TZBt6WW97GW"
      },
      "source": [
        "###Vérifications"
      ]
    },
    {
      "cell_type": "code",
      "source": [
        "liste_sous_dossiers = lister_sous_dossiers_avec_videos(chemin_dossier_3)\n",
        "# Mélanger la liste de manière aléatoire\n",
        "random.shuffle(liste_sous_dossiers)\n",
        "\n",
        "\n",
        "# Limiter l'itération aux 50 premiers éléments\n",
        "for sous_dossier in liste_sous_dossiers[:30]:\n",
        "    try:\n",
        "        # Localiser les fichiers nécessaires\n",
        "        chemin_video = lister_elements_videos_dossier(sous_dossier)[0]\n",
        "        titre_arabe, extension = extract_title_from_path(chemin_video)\n",
        "        print(titre_arabe)\n",
        "        texte_transcris = recuperer_fichiers_par_suffixe(sous_dossier, extension_transcription_avec_timecode)[0]\n",
        "        if (texte_transcris == []):\n",
        "            texte_transcris = recuperer_fichiers_par_suffixe(sous_dossier, extension_transcription_sans_timecode)[0]\n",
        "        audio = trouver_audio_dans_dossier(sous_dossier)\n",
        "        sous_titre = recuperer_fichiers_par_suffixe(sous_dossier, extension_traduit)[0]\n",
        "        print(sous_titre)\n",
        "\n",
        "        interface_modifier_fichier_et_jouer_mp3(sous_titre, audio, titre_modifiable=titre_arabe, chemin_texte_transcris = texte_transcris)\n",
        "\n",
        "    except IndexError as e:\n",
        "        print(f\"Erreur : Aucun fichier valide trouvé dans le sous-dossier '{sous_dossier}'. Détails : {e}\")\n",
        "    except Exception as e:\n",
        "        print(f\"Erreur inattendue lors du traitement du sous-dossier '{sous_dossier}'. Détails : {e}\")"
      ],
      "metadata": {
        "id": "CnM_i15UF0wF"
      },
      "execution_count": null,
      "outputs": []
    },
    {
      "cell_type": "code",
      "source": [
        "liste_dossiers_videos=lister_sous_dossiers_avec_videos(chemin_dossier_3)\n",
        "for dossier in liste_dossiers_videos :\n",
        "    if recuperer_fichiers_par_suffixe(dossier, extension_revise) != []:\n",
        "        deplacer_dossier(dossier, chemin_dossier_4)\n",
        "print(\"Nombre d'éléments à Vérifier = \", len(lister_sous_dossiers_avec_videos(chemin_dossier_3)))\n",
        "print(\"Nombre d'éléments à monter = \", len(lister_sous_dossiers_avec_videos(chemin_dossier_4)))"
      ],
      "metadata": {
        "id": "vj76zVyXHVgH"
      },
      "execution_count": null,
      "outputs": []
    },
    {
      "cell_type": "markdown",
      "metadata": {
        "id": "5tXwJJA3ko5_"
      },
      "source": [
        "###Montage"
      ]
    },
    {
      "cell_type": "markdown",
      "metadata": {
        "id": "BL6PiyROEVeE"
      },
      "source": [
        "####Testing"
      ]
    },
    {
      "cell_type": "code",
      "execution_count": null,
      "metadata": {
        "id": "dSXLDBPlWdrQ"
      },
      "outputs": [],
      "source": [
        "# liste_sous_dossiers = lister_sous_dossiers_avec_videos(chemin_dossier_4)\n",
        "\n",
        "# # Vérification si des sous-dossiers existent\n",
        "# if not liste_sous_dossiers:\n",
        "#     print(\"Aucun sous-dossier trouvé.\")\n",
        "# else:\n",
        "#     for sous_dossier in liste_sous_dossiers:\n",
        "#         print(f\"\\n--- Traitement du sous-dossier : {sous_dossier} ---\")\n",
        "\n",
        "#         # Localiser les fichiers nécessaires avec gestion d'erreurs\n",
        "#         try:\n",
        "#             chemin_video = lister_elements_videos_dossier(sous_dossier)[0]\n",
        "#             print(f\"Vidéo trouvée : {chemin_video}\")\n",
        "#         except IndexError:\n",
        "#             print(\"Aucune vidéo trouvée dans ce sous-dossier.\")\n",
        "\n",
        "#         try:\n",
        "#             sous_titre_revise = recuperer_fichiers_par_suffixe(sous_dossier, extension_revise)[0]\n",
        "#             print(f\"Sous-titre révisé trouvé : {sous_titre_revise}\")\n",
        "#         except IndexError:\n",
        "#             print(\"Aucun fichier de sous-titre révisé trouvé.\")\n",
        "\n",
        "#         try:\n",
        "#             audio = trouver_audio_dans_dossier(sous_dossier)\n",
        "#             print(f\"Audio trouvé : {audio}\")\n",
        "#         except Exception:\n",
        "#             print(\"Aucun fichier audio trouvé.\")\n",
        "\n",
        "#         try:\n",
        "#             titre_path = recuperer_fichiers_par_suffixe(sous_dossier, extension_titre)[0]\n",
        "#             titre_concret, extension = extract_title_from_path(titre_path)\n",
        "#             titre_final = titre_concret + extension\n",
        "#             titre_final = titre_final.replace(extension_titre, \"\")\n",
        "#             print(f\"Titre extrait : {titre_final}\")\n",
        "#         except IndexError:\n",
        "#             print(\"Aucun fichier de titre trouvé.\")\n",
        "#         except Exception as e:\n",
        "#             print(f\"Erreur lors de l'extraction du titre : {e}\")\n",
        "\n",
        "#         # Ajout d'une séparation entre les sous-dossiers\n",
        "#         print(\"\\n\" + \"=\"*50 + \"\\n\")\n"
      ]
    },
    {
      "cell_type": "markdown",
      "metadata": {
        "id": "p1DF7qcYEbjQ"
      },
      "source": [
        "####Montage"
      ]
    },
    {
      "cell_type": "code",
      "source": [
        "liste_sous_dossiers =lister_sous_dossiers_avec_videos(chemin_dossier_4)\n",
        "# liste_sous_dossiers = [\"/content/drive/Othercomputers/Mon ordinateur portable/Projet concret (Drive)/4.Sous-titres Vérifié/السنة في إفطار #رمضان # #shorts\"]\n",
        "for sous_dossier in liste_sous_dossiers:\n",
        "    print(f\"\\n--- Traitement du sous-dossier : {sous_dossier} ---\")\n",
        "\n",
        "    # Localiser les fichiers nécessaires avec gestion d'erreurs\n",
        "    try:\n",
        "        chemin_video = lister_elements_videos_dossier(sous_dossier)[0]\n",
        "    except IndexError:\n",
        "        print(\"Aucune vidéo trouvée dans ce sous-dossier.\")\n",
        "        continue  # Passer au sous-dossier suivant si aucune vidéo\n",
        "\n",
        "    try:\n",
        "        sous_titre_revise = recuperer_fichiers_par_suffixe(sous_dossier, extension_revise)[0]\n",
        "    except IndexError:\n",
        "        print(\"Aucun fichier de sous-titre révisé trouvé.\")\n",
        "        continue\n",
        "\n",
        "    try:\n",
        "        audio = trouver_audio_dans_dossier(sous_dossier)\n",
        "    except Exception:\n",
        "        print(\"Aucun fichier audio trouvé.\")\n",
        "        continue\n",
        "\n",
        "    try:\n",
        "        titre_path = recuperer_fichiers_par_suffixe(sous_dossier, extension_titre)[0]\n",
        "        titre_concret, extension = extract_title_from_path(titre_path)\n",
        "        titre_final = titre_concret + extension\n",
        "        titre_final = titre_final.replace(extension_titre, \"\")\n",
        "        print(f\"Titre extrait : {titre_final}\")\n",
        "    except IndexError:\n",
        "        print(\"Aucun fichier de titre trouvé.\")\n",
        "        continue\n",
        "    except Exception as e:\n",
        "        print(f\"Erreur lors de l'extraction du titre : {e}\")\n",
        "        continue\n",
        "\n",
        "    try:\n",
        "        # Étape 1: Ajouter un rectangle noir avec dégradé sur la moitié inférieure de la vidéo\n",
        "        video_avec_rectangle = ajouter_rectangle_noir_video(chemin_video, titre_final)  # Appel de la fonction\n",
        "\n",
        "        # Étape 2: Ajouter un logo sur la vidéo\n",
        "        video_avec_logo = ajouter_logo_video(video_avec_rectangle)\n",
        "\n",
        "        # Étape 3: Ajouter les sous-titres sur la vidéo\n",
        "        video_avec_texte = ajouter_texte_video_opencv(video_avec_logo, sous_titre_revise)\n",
        "\n",
        "        # Étape 4: Ajouter le titre à la fin de la vidéo\n",
        "        video_avec_titre = ajouter_titre_debut_video(video_avec_texte, titre_final)\n",
        "\n",
        "        # Fusionner audio et vidéo\n",
        "        fusion_result = titre_path.replace(extension_titre, extension_montee)\n",
        "        print(f\"Fusion audio/vidéo en cours : vidéo={video_avec_texte}, audio={audio}, export={fusion_result}\")\n",
        "        fusionner_audio_video(video_avec_texte, audio, fusion_result)\n",
        "        print(f\"Fusion terminée avec succès : {fusion_result}\")\n",
        "\n",
        "        # Suppression des fichiers temporaires\n",
        "        for fichier in [video_avec_rectangle, video_avec_titre, video_avec_logo, video_avec_texte]:\n",
        "            if os.path.exists(fichier):\n",
        "                os.remove(fichier)\n",
        "                print(f\"Fichier temporaire supprimé : {fichier}\")\n",
        "            else:\n",
        "                print(f\"Fichier temporaire introuvable pour suppression : {fichier}\")\n",
        "\n",
        "        print(f\"Traitement terminé pour : {sous_dossier}\")\n",
        "\n",
        "    except FileNotFoundError as e:\n",
        "        print(f\"Erreur : {e}\")\n",
        "    except IndexError as e:\n",
        "        print(f\"Erreur : Une liste utilisée dans le sous-dossier '{sous_dossier}' est vide. Détails : {e}\")\n",
        "    except Exception as e:\n",
        "        print(f\"Erreur inattendue lors du traitement du sous-dossier '{sous_dossier}'. Détails : {e}\")\n"
      ],
      "metadata": {
        "id": "_ryEJA-jF8AJ"
      },
      "execution_count": null,
      "outputs": []
    },
    {
      "cell_type": "code",
      "execution_count": null,
      "metadata": {
        "id": "_TGFPhCdgzEs"
      },
      "outputs": [],
      "source": [
        "liste_dossiers_videos = lister_sous_dossiers_avec_videos(chemin_dossier_4)\n",
        "\n",
        "for dossier in liste_dossiers_videos:\n",
        "    fichiers = recuperer_fichiers_par_suffixe(dossier, extension_montee)\n",
        "    if fichiers:\n",
        "        fichier_video = fichiers[0]\n",
        "        output_path = os.path.join(chemin_dossier_5, \"Videos finies\")\n",
        "        deplacer_video(fichier_video, output_path)\n",
        "        deplacer_dossier(dossier, os.path.join(chemin_dossier_5, \"Dossiers_traitement\"))\n"
      ]
    },
    {
      "cell_type": "markdown",
      "metadata": {
        "id": "d0sIk7RqMDSm"
      },
      "source": [
        "####Maintenant déplacer vers le dossier à poster :-)\n"
      ]
    },
    {
      "cell_type": "code",
      "execution_count": null,
      "metadata": {
        "id": "RTNVHQ-XX7Gy"
      },
      "outputs": [],
      "source": []
    },
    {
      "cell_type": "markdown",
      "metadata": {
        "id": "LsNwpQhOLnIO"
      },
      "source": [
        "##Maintenant déplacer vers le dossier à poster :-)\n"
      ]
    },
    {
      "cell_type": "markdown",
      "metadata": {
        "id": "EjoVV9lG_JTY"
      },
      "source": [
        "##Génération de fichiers CSV pour upload en masse sur ZOHO"
      ]
    },
    {
      "cell_type": "code",
      "execution_count": null,
      "metadata": {
        "id": "jV6TcvWGglmG"
      },
      "outputs": [],
      "source": []
    },
    {
      "cell_type": "markdown",
      "metadata": {
        "id": "zBdu7l0Qgmc0"
      },
      "source": [
        "#Tests"
      ]
    },
    {
      "cell_type": "code",
      "execution_count": null,
      "metadata": {
        "colab": {
          "base_uri": "https://localhost:8080/"
        },
        "id": "0z00Trf8_L-G",
        "outputId": "f3987411-bdeb-4e9f-dc7b-0791665804ec"
      },
      "outputs": [
        {
          "name": "stdout",
          "output_type": "stream",
          "text": [
            "Original text: Bonjour مرحبا  bonjour بالعالم Jojo\n",
            "Processed text (BiDi corrigé): Bonjour مرحبا  bonjour بالعالم Jojo\n"
          ]
        }
      ],
      "source": [
        "from bidi.algorithm import get_display\n",
        "\n",
        "def apply_bidi_correctly(texte):\n",
        "    \"\"\"\n",
        "    Applique l'algorithme BiDi uniquement aux segments arabes du texte.\n",
        "    \"\"\"\n",
        "    segments = []\n",
        "    current_segment = \"\"\n",
        "    current_script = None  # 'latin', 'arabic', or None\n",
        "\n",
        "    for char in texte:\n",
        "        # Détecte si le caractère appartient à l'alphabet arabe\n",
        "        if \"\\u0600\" <= char <= \"\\u06FF\" or \"\\u0750\" <= char <= \"\\u077F\" or \"\\u08A0\" <= char <= \"\\u08FF\":\n",
        "            script = \"arabic\"\n",
        "        else:\n",
        "            script = \"latin\"\n",
        "\n",
        "        # Si le script change, ajouter le segment actuel à la liste\n",
        "        if script != current_script:\n",
        "            if current_segment:\n",
        "                segments.append((current_script, current_segment))\n",
        "            current_segment = char\n",
        "            current_script = script\n",
        "        else:\n",
        "            current_segment += char\n",
        "\n",
        "    # Ajouter le dernier segment\n",
        "    if current_segment:\n",
        "        segments.append((current_script, current_segment))\n",
        "\n",
        "    # Appliquer BiDi uniquement aux segments arabes\n",
        "    processed_segments = []\n",
        "    for script, segment in segments:\n",
        "        if script == \"arabic\":\n",
        "            # Appliquer BiDi et corriger la direction pour les caractères arabes\n",
        "            processed_segments.append(get_display(segment[::-1]))  # L'inversion corrige l'ordre\n",
        "        else:\n",
        "            processed_segments.append(segment)  # Laisser le texte latin inchangé\n",
        "\n",
        "    # Recombiner les segments\n",
        "    return \"\".join(processed_segments)\n",
        "\n",
        "\n"
      ]
    },
    {
      "cell_type": "markdown",
      "metadata": {
        "id": "PjqHgRwCicHC"
      },
      "source": [
        "#Vérifications"
      ]
    },
    {
      "cell_type": "code",
      "execution_count": null,
      "metadata": {
        "colab": {
          "base_uri": "https://localhost:8080/"
        },
        "id": "9S7nTPr1iidm",
        "outputId": "0c18033e-46c9-4e3d-e4ac-d60b26e050d7"
      },
      "outputs": [
        {
          "output_type": "stream",
          "name": "stdout",
          "text": [
            "0.Vidéos sans sous dossier = 1 éléments\n",
            "1.Vidéos vierges avec dossier = 0 éléments\n",
            "2.Sous-titres Extrait = 3 éléments\n",
            "3.Sous-titres Traduit (modèle) = 0 éléments\n",
            "4.Sous-titres Vérifié = 7 éléments\n",
            "Videos finies = 14 éléments\n"
          ]
        }
      ],
      "source": [
        "import os\n",
        "\n",
        "chemin_dossiers = [\n",
        "    chemin_dossier_0,\n",
        "    chemin_dossier_1,\n",
        "    chemin_dossier_2,\n",
        "    chemin_dossier_3,\n",
        "    chemin_dossier_4,\n",
        "    r\"/content/drive/MyDrive/Projet concret (Drive)/5.Vidéos Montées/Videos finies\",  # Corrigé ici\n",
        "]\n",
        "\n",
        "for i, chemin in enumerate(chemin_dossiers):\n",
        "    try:\n",
        "        nombre_elements = len(os.listdir(chemin))\n",
        "        nom_dossier = os.path.basename(chemin)\n",
        "        print(f\"{nom_dossier} = {nombre_elements} éléments\")\n",
        "    except FileNotFoundError:\n",
        "        print(f\"{nom_dossier} = Erreur : dossier introuvable\")\n",
        "    except PermissionError:\n",
        "        print(f\"{nom_dossier} = Erreur : permission refusée\")\n"
      ]
    }
  ],
  "metadata": {
    "colab": {
      "collapsed_sections": [
        "0rcxLHHqMm7O",
        "lIZvPOZUmhv8",
        "hQTB42JgoAHH",
        "AxFu_hdDn8dJ",
        "_XknrIW-n_Mp",
        "UaR2C0_Y3P98",
        "7VVZC7Eb3Sdt",
        "apu4_EPbLF_D",
        "hQyEwblHPeGp",
        "uAi42i0j3_DN",
        "UKBwod2D4BVz",
        "BL6PiyROEVeE",
        "zBdu7l0Qgmc0"
      ],
      "provenance": []
    },
    "kernelspec": {
      "display_name": "Python 3",
      "name": "python3"
    },
    "language_info": {
      "codemirror_mode": {
        "name": "ipython",
        "version": 3
      },
      "file_extension": ".py",
      "mimetype": "text/x-python",
      "name": "python",
      "nbconvert_exporter": "python",
      "pygments_lexer": "ipython3",
      "version": "3.9.5"
    }
  },
  "nbformat": 4,
  "nbformat_minor": 0
}